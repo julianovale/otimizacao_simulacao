{
  "nbformat": 4,
  "nbformat_minor": 0,
  "metadata": {
    "colab": {
      "name": "0011_LP_otimização.ipynb",
      "provenance": [],
      "authorship_tag": "ABX9TyOA661qdcq8n7qlSKtfi3Us",
      "include_colab_link": true
    },
    "kernelspec": {
      "name": "python3",
      "display_name": "Python 3"
    }
  },
  "cells": [
    {
      "cell_type": "markdown",
      "metadata": {
        "id": "view-in-github",
        "colab_type": "text"
      },
      "source": [
        "<a href=\"https://colab.research.google.com/github/julianovale/otimizacao_simulacao/blob/master/0011_LP_otimiza%C3%A7%C3%A3o.ipynb\" target=\"_parent\"><img src=\"https://colab.research.google.com/assets/colab-badge.svg\" alt=\"Open In Colab\"/></a>"
      ]
    },
    {
      "cell_type": "markdown",
      "metadata": {
        "id": "TT8QxCNWl5Lw"
      },
      "source": [
        "Link do problema:\r\n",
        "\r\n",
        "https://towardsdatascience.com/maximizing-profit-using-linear-programming-in-python-642520c43f6"
      ]
    },
    {
      "cell_type": "code",
      "metadata": {
        "colab": {
          "base_uri": "https://localhost:8080/"
        },
        "id": "xjfGvaztloKw",
        "outputId": "e3fe252a-3184-496a-86d0-4425f5e44541"
      },
      "source": [
        "! pip install pulp"
      ],
      "execution_count": 4,
      "outputs": [
        {
          "output_type": "stream",
          "text": [
            "Requirement already satisfied: pulp in /usr/local/lib/python3.7/dist-packages (2.4)\n",
            "Requirement already satisfied: amply>=0.1.2 in /usr/local/lib/python3.7/dist-packages (from pulp) (0.1.4)\n",
            "Requirement already satisfied: docutils>=0.3 in /usr/local/lib/python3.7/dist-packages (from amply>=0.1.2->pulp) (0.16)\n",
            "Requirement already satisfied: pyparsing in /usr/local/lib/python3.7/dist-packages (from amply>=0.1.2->pulp) (2.4.7)\n"
          ],
          "name": "stdout"
        }
      ]
    },
    {
      "cell_type": "code",
      "metadata": {
        "colab": {
          "base_uri": "https://localhost:8080/"
        },
        "id": "YNUlBSkHlifx",
        "outputId": "0565129d-af21-4a02-a051-e3158cb576db"
      },
      "source": [
        "# import the library PuLP as p \r\n",
        "import pulp as p\r\n",
        "  \r\n",
        "# Set Up a LP Maximization Problem:\r\n",
        "Lp_prob = p.LpProblem('Activity-Analysis_1', p.LpMaximize) # Here we named the Problem \"Acitity-Analysis\".\r\n",
        "  \r\n",
        "# Set Up Problem Variables: \r\n",
        "c = p.LpVariable(\"c\", lowBound = 0) # \"c\" for chair\r\n",
        "t = p.LpVariable(\"t\", lowBound = 0) # \"t\" for table\r\n",
        "d = p.LpVariable(\"d\", lowBound = 0) # \"d\" for desk\r\n",
        "b = p.LpVariable(\"b\", lowBound = 0) # \"b\" for bookshelve\r\n",
        "\r\n",
        "  \r\n",
        "# Create Objective Function:\r\n",
        "Lp_prob += 45 * c + 80 * t + 110 * d + 55 * b    \r\n",
        "  \r\n",
        "# Create Constraints: \r\n",
        "Lp_prob += 5 * c + 20 * t + 15 * d + 22 * b <= 20000\r\n",
        "Lp_prob += 10 * c + 15 * t + 25 * d + 20 * b <= 4000\r\n",
        "Lp_prob += 3 * c + 8 * t + 15 * d + 10 * b <= 2000\r\n",
        "Lp_prob += 4 * c + 20 * d <= 3000\r\n",
        "Lp_prob += 20 * b <= 500\r\n",
        "  \r\n",
        "# Show the problem:\r\n",
        "print(Lp_prob) # note that it's shown in alphabetical order\r\n",
        "  \r\n",
        "\r\n",
        "\r\n",
        "### Simplifying the Problem and Solving it ###\r\n",
        "\r\n",
        "# Generate a New LP Maximization Problem:\r\n",
        "Lp_prob2 = p.LpProblem('Activity-Analysis_2', p.LpMaximize)\r\n",
        "  \r\n",
        "# Generate Problem Variables (>= 0): \r\n",
        "c = p.LpVariable(\"c\", lowBound = 0)\r\n",
        "t = p.LpVariable(\"t\", lowBound = 0)\r\n",
        "\r\n",
        "\r\n",
        "  \r\n",
        "# Create Objective Function:\r\n",
        "Lp_prob2 += 45 * c + 80 * t #+ 110 * d + 55 * b    \r\n",
        "  \r\n",
        "# Set Up the Constraints: \r\n",
        "Lp_prob2 += 5 * c + 20 * t <= 400\r\n",
        "Lp_prob2 += 10 * c + 15 * t <= 450\r\n",
        "\r\n",
        "  \r\n",
        "# Show the problem:\r\n",
        "print(Lp_prob2) # note that it's shown in alphabetical order\r\n",
        "  \r\n",
        "# Solve the Problem:\r\n",
        "status = Lp_prob2.solve()\r\n",
        "print(p.LpStatus[status])   # Display Solution Status \r\n",
        "  \r\n",
        "# Printing the final solution \r\n",
        "print(p.value(c), p.value(t), p.value(Lp_prob2.objective)) \r\n",
        "\r\n",
        "# Printing Number of Chairs and Tables:\r\n",
        "for var in (c,t):\r\n",
        "    print('Optimal number of {} to produce is: {:1.0f}'\r\n",
        "          .format(var.name, var.value()))\r\n",
        "\r\n",
        "### END ###"
      ],
      "execution_count": 5,
      "outputs": [
        {
          "output_type": "stream",
          "text": [
            "Activity-Analysis_1:\n",
            "MAXIMIZE\n",
            "55*b + 45*c + 110*d + 80*t + 0\n",
            "SUBJECT TO\n",
            "_C1: 22 b + 5 c + 15 d + 20 t <= 20000\n",
            "\n",
            "_C2: 20 b + 10 c + 25 d + 15 t <= 4000\n",
            "\n",
            "_C3: 10 b + 3 c + 15 d + 8 t <= 2000\n",
            "\n",
            "_C4: 4 c + 20 d <= 3000\n",
            "\n",
            "_C5: 20 b <= 500\n",
            "\n",
            "VARIABLES\n",
            "b Continuous\n",
            "c Continuous\n",
            "d Continuous\n",
            "t Continuous\n",
            "\n",
            "Activity-Analysis_2:\n",
            "MAXIMIZE\n",
            "45*c + 80*t + 0\n",
            "SUBJECT TO\n",
            "_C1: 5 c + 20 t <= 400\n",
            "\n",
            "_C2: 10 c + 15 t <= 450\n",
            "\n",
            "VARIABLES\n",
            "c Continuous\n",
            "t Continuous\n",
            "\n",
            "Optimal\n",
            "24.0 14.0 2200.0\n",
            "Optimal number of c to produce is: 24\n",
            "Optimal number of t to produce is: 14\n"
          ],
          "name": "stdout"
        }
      ]
    }
  ]
}