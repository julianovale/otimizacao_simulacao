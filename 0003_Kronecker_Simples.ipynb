{
  "nbformat": 4,
  "nbformat_minor": 0,
  "metadata": {
    "colab": {
      "name": "0003_Kronecker_Simples.ipynb",
      "provenance": [],
      "collapsed_sections": [],
      "authorship_tag": "ABX9TyOA8441Q2t9oxyuOOF7APaq",
      "include_colab_link": true
    },
    "kernelspec": {
      "name": "python3",
      "display_name": "Python 3"
    }
  },
  "cells": [
    {
      "cell_type": "markdown",
      "metadata": {
        "id": "view-in-github",
        "colab_type": "text"
      },
      "source": [
        "<a href=\"https://colab.research.google.com/github/julianovale/simulacao_python/blob/master/0003_Kronecker_Simples.ipynb\" target=\"_parent\"><img src=\"https://colab.research.google.com/assets/colab-badge.svg\" alt=\"Open In Colab\"/></a>"
      ]
    },
    {
      "cell_type": "markdown",
      "metadata": {
        "id": "N38eSZuQ2Vap",
        "colab_type": "text"
      },
      "source": [
        "## Produto (01)"
      ]
    },
    {
      "cell_type": "code",
      "metadata": {
        "id": "XYVYnoNu05Mm",
        "colab_type": "code",
        "colab": {}
      },
      "source": [
        "import numpy as np"
      ],
      "execution_count": null,
      "outputs": []
    },
    {
      "cell_type": "code",
      "metadata": {
        "id": "DJd9Kkmv08i8",
        "colab_type": "code",
        "colab": {}
      },
      "source": [
        "a = np.array([1,2,3])\n",
        "b = np.array([0,1,0])"
      ],
      "execution_count": null,
      "outputs": []
    },
    {
      "cell_type": "code",
      "metadata": {
        "id": "UKGccZ0K1K7w",
        "colab_type": "code",
        "colab": {
          "base_uri": "https://localhost:8080/",
          "height": 68
        },
        "outputId": "a37f3af2-e83b-4009-a779-31b50252593d"
      },
      "source": [
        "print(\"Matrizes originais\")\n",
        "print(a)\n",
        "print(b)"
      ],
      "execution_count": null,
      "outputs": [
        {
          "output_type": "stream",
          "text": [
            "Matrizes originais\n",
            "[1 2 3]\n",
            "[0 1 0]\n"
          ],
          "name": "stdout"
        }
      ]
    },
    {
      "cell_type": "code",
      "metadata": {
        "id": "X7b5S_6s1UxJ",
        "colab_type": "code",
        "colab": {}
      },
      "source": [
        "resultado = np.kron(a, b) ## Produto de Kronecker"
      ],
      "execution_count": null,
      "outputs": []
    },
    {
      "cell_type": "code",
      "metadata": {
        "id": "qh3slnww1oH_",
        "colab_type": "code",
        "colab": {
          "base_uri": "https://localhost:8080/",
          "height": 51
        },
        "outputId": "f985c22d-4933-48b6-c9e8-a560f9751124"
      },
      "source": [
        "print('Produto de kronecker das matrizes a e b')\n",
        "print(resultado)"
      ],
      "execution_count": null,
      "outputs": [
        {
          "output_type": "stream",
          "text": [
            "Produto de kronecker das matrizes a e b\n",
            "[0 1 0 0 2 0 0 3 0]\n"
          ],
          "name": "stdout"
        }
      ]
    },
    {
      "cell_type": "markdown",
      "metadata": {
        "id": "Sf-iEhd82a0v",
        "colab_type": "text"
      },
      "source": [
        "## Produto (2)"
      ]
    },
    {
      "cell_type": "code",
      "metadata": {
        "id": "TI24yr4w2Q5H",
        "colab_type": "code",
        "colab": {}
      },
      "source": [
        "x = np.arange(9).reshape(3,3)\n",
        "y = np.arange(3,12).reshape(3,3)"
      ],
      "execution_count": null,
      "outputs": []
    },
    {
      "cell_type": "code",
      "metadata": {
        "id": "faT4PDsY2109",
        "colab_type": "code",
        "colab": {
          "base_uri": "https://localhost:8080/",
          "height": 136
        },
        "outputId": "f51c791e-58a4-4d1b-c579-2b2d29016c83"
      },
      "source": [
        "print(\"Matrizes originais\")\n",
        "print(x)\n",
        "print(y)"
      ],
      "execution_count": null,
      "outputs": [
        {
          "output_type": "stream",
          "text": [
            "Matrizes originais\n",
            "[[0 1 2]\n",
            " [3 4 5]\n",
            " [6 7 8]]\n",
            "[[ 3  4  5]\n",
            " [ 6  7  8]\n",
            " [ 9 10 11]]\n"
          ],
          "name": "stdout"
        }
      ]
    },
    {
      "cell_type": "code",
      "metadata": {
        "id": "Y6s8ueCm2-1Q",
        "colab_type": "code",
        "colab": {}
      },
      "source": [
        "resultado = np.kron(x, y) ## Produto de Kronecker"
      ],
      "execution_count": null,
      "outputs": []
    },
    {
      "cell_type": "code",
      "metadata": {
        "colab_type": "code",
        "id": "97YlBnSL3IAh",
        "colab": {
          "base_uri": "https://localhost:8080/",
          "height": 187
        },
        "outputId": "e5ac36eb-a13d-49d1-af32-c910d8b03823"
      },
      "source": [
        "print('Produto de kronecker das matrizes x e y')\n",
        "print(resultado)"
      ],
      "execution_count": null,
      "outputs": [
        {
          "output_type": "stream",
          "text": [
            "Produto de kronecker das matrizes x e y\n",
            "[[ 0  0  0  3  4  5  6  8 10]\n",
            " [ 0  0  0  6  7  8 12 14 16]\n",
            " [ 0  0  0  9 10 11 18 20 22]\n",
            " [ 9 12 15 12 16 20 15 20 25]\n",
            " [18 21 24 24 28 32 30 35 40]\n",
            " [27 30 33 36 40 44 45 50 55]\n",
            " [18 24 30 21 28 35 24 32 40]\n",
            " [36 42 48 42 49 56 48 56 64]\n",
            " [54 60 66 63 70 77 72 80 88]]\n"
          ],
          "name": "stdout"
        }
      ]
    },
    {
      "cell_type": "markdown",
      "metadata": {
        "id": "57aQ2GCdFl1i",
        "colab_type": "text"
      },
      "source": [
        "## Soma\n"
      ]
    },
    {
      "cell_type": "code",
      "metadata": {
        "id": "eGTq4ZlgFkYF",
        "colab_type": "code",
        "colab": {}
      },
      "source": [
        "x = np.arange(4).reshape(2,2)\n",
        "y = np.arange(3,12).reshape(3,3)"
      ],
      "execution_count": 14,
      "outputs": []
    },
    {
      "cell_type": "code",
      "metadata": {
        "colab_type": "code",
        "id": "MSy3oawHF9Fj",
        "colab": {
          "base_uri": "https://localhost:8080/",
          "height": 119
        },
        "outputId": "9317d0f2-1021-4339-aa24-590db3d06f19"
      },
      "source": [
        "print(\"Matrizes originais\")\n",
        "print(x)\n",
        "print(y)"
      ],
      "execution_count": 15,
      "outputs": [
        {
          "output_type": "stream",
          "text": [
            "Matrizes originais\n",
            "[[0 1]\n",
            " [2 3]]\n",
            "[[ 3  4  5]\n",
            " [ 6  7  8]\n",
            " [ 9 10 11]]\n"
          ],
          "name": "stdout"
        }
      ]
    },
    {
      "cell_type": "code",
      "metadata": {
        "id": "GQppOYUUGOzK",
        "colab_type": "code",
        "colab": {}
      },
      "source": [
        "ident2 = np.identity(2)\n",
        "ident3 = np.identity(3)\n",
        "resultado = np.kron(x,ident3)+np.kron(y,ident2)"
      ],
      "execution_count": 20,
      "outputs": []
    },
    {
      "cell_type": "code",
      "metadata": {
        "id": "1W85Fo7xG3TE",
        "colab_type": "code",
        "colab": {
          "base_uri": "https://localhost:8080/",
          "height": 136
        },
        "outputId": "5e5cf67a-0317-4d87-8664-96a05492668d"
      },
      "source": [
        "print('Soma de kronecker das matrizes x e y')\n",
        "print(resultado)"
      ],
      "execution_count": 21,
      "outputs": [
        {
          "output_type": "stream",
          "text": [
            "Soma de kronecker das matrizes x e y\n",
            "[[ 3.  0.  4.  1.  5.  0.]\n",
            " [ 0.  3.  0.  4.  1.  5.]\n",
            " [ 6.  0.  7.  0.  8.  1.]\n",
            " [ 2.  6.  0. 10.  0.  8.]\n",
            " [ 9.  2. 10.  0. 14.  0.]\n",
            " [ 0.  9.  2. 10.  0. 14.]]\n"
          ],
          "name": "stdout"
        }
      ]
    }
  ]
}