{
  "nbformat": 4,
  "nbformat_minor": 0,
  "metadata": {
    "colab": {
      "name": "0007_rotina_criacao_grafos.ipynb",
      "provenance": [],
      "collapsed_sections": [],
      "authorship_tag": "ABX9TyOOEiugLNkhr4JZTxq01yB9",
      "include_colab_link": true
    },
    "kernelspec": {
      "name": "python3",
      "display_name": "Python 3"
    }
  },
  "cells": [
    {
      "cell_type": "markdown",
      "metadata": {
        "id": "view-in-github",
        "colab_type": "text"
      },
      "source": [
        "<a href=\"https://colab.research.google.com/github/julianovale/simulacao_python/blob/master/0007_rotina_criacao_grafos.ipynb\" target=\"_parent\"><img src=\"https://colab.research.google.com/assets/colab-badge.svg\" alt=\"Open In Colab\"/></a>"
      ]
    },
    {
      "cell_type": "markdown",
      "metadata": {
        "id": "_VSv02KWlioo",
        "colab_type": "text"
      },
      "source": [
        "# Trabalhando com grafos\n",
        "\n",
        "Verificar link:\n",
        "\n",
        "https://algoritmosempython.com.br/cursos/algoritmos-python/algoritmos-grafos/representacao\n",
        "\n"
      ]
    },
    {
      "cell_type": "code",
      "metadata": {
        "id": "0fj4WsMVkCMd",
        "colab_type": "code",
        "colab": {}
      },
      "source": [
        "from collections import defaultdict\n",
        "\n",
        "\n",
        "class Grafo(object):\n",
        "    \"\"\" Implementação básica de um grafo. \"\"\"\n",
        "\n",
        "    def __init__(self, arestas, direcionado=False):\n",
        "        \"\"\"Inicializa as estruturas base do grafo.\"\"\"\n",
        "        self.adj = defaultdict(set)\n",
        "        self.direcionado = direcionado\n",
        "        self.adiciona_arestas(arestas)\n",
        "\n",
        "\n",
        "    def get_vertices(self):\n",
        "        \"\"\" Retorna a lista de vértices do grafo. \"\"\"\n",
        "        return list(self.adj.keys())\n",
        "\n",
        "\n",
        "    def get_arestas(self):\n",
        "        \"\"\" Retorna a lista de arestas do grafo. \"\"\"\n",
        "        return [(k, v) for k in self.adj.keys() for v in self.adj[k]]\n",
        "\n",
        "\n",
        "    def adiciona_arestas(self, arestas):\n",
        "        \"\"\" Adiciona arestas ao grafo. \"\"\"\n",
        "        for u, v in arestas:\n",
        "            self.adiciona_arco(u, v)\n",
        "\n",
        "\n",
        "    def adiciona_arco(self, u, v):\n",
        "        \"\"\" Adiciona uma ligação (arco) entre os nodos 'u' e 'v'. \"\"\"\n",
        "        self.adj[u].add(v)\n",
        "        # Se o grafo é não-direcionado, precisamos adicionar arcos nos dois sentidos.\n",
        "        if not self.direcionado:\n",
        "            self.adj[v].add(u)\n",
        "\n",
        "\n",
        "    def existe_aresta(self, u, v):\n",
        "        \"\"\" Existe uma aresta entre os vértices 'u' e 'v'? \"\"\"\n",
        "        return u in self.adj and v in self.adj[u]\n",
        "\n",
        "\n",
        "    def __len__(self):\n",
        "        return len(self.adj)\n",
        "\n",
        "\n",
        "    def __str__(self):\n",
        "        return '{}({})'.format(self.__class__.__name__, dict(self.adj))\n",
        "\n",
        "\n",
        "    def __getitem__(self, v):\n",
        "        return self.adj[v]"
      ],
      "execution_count": 1,
      "outputs": []
    },
    {
      "cell_type": "markdown",
      "metadata": {
        "id": "TNKK70ghlIlW",
        "colab_type": "text"
      },
      "source": [
        "# Exemplo 1"
      ]
    },
    {
      "cell_type": "code",
      "metadata": {
        "id": "Zj5ewjVekTWP",
        "colab_type": "code",
        "colab": {}
      },
      "source": [
        "# Cria a lista de arestas.\n",
        "arestas = [('A', 'B'), ('B', 'C'), ('B', 'D'), ('C', 'B'), ('C', 'E'), ('D', 'A'), ('E', 'B')]"
      ],
      "execution_count": 2,
      "outputs": []
    },
    {
      "cell_type": "code",
      "metadata": {
        "id": "zCxEPKipkXtf",
        "colab_type": "code",
        "colab": {
          "base_uri": "https://localhost:8080/",
          "height": 34
        },
        "outputId": "9aa2e326-185c-4dfa-91a7-bcfbfbc1ab00"
      },
      "source": [
        "# Cria e imprime o grafo.\n",
        "grafo = Grafo(arestas, direcionado=True)\n",
        "print(grafo.adj)"
      ],
      "execution_count": 3,
      "outputs": [
        {
          "output_type": "stream",
          "text": [
            "defaultdict(<class 'set'>, {'A': {'B'}, 'B': {'C', 'D'}, 'C': {'E', 'B'}, 'D': {'A'}, 'E': {'B'}})\n"
          ],
          "name": "stdout"
        }
      ]
    },
    {
      "cell_type": "code",
      "metadata": {
        "id": "XKTO8Z97kfJV",
        "colab_type": "code",
        "colab": {
          "base_uri": "https://localhost:8080/",
          "height": 34
        },
        "outputId": "2cef4a43-6ccf-4d00-d06d-2a4dfbd9a6c5"
      },
      "source": [
        "print(grafo.get_vertices())"
      ],
      "execution_count": 4,
      "outputs": [
        {
          "output_type": "stream",
          "text": [
            "['A', 'B', 'C', 'D', 'E']\n"
          ],
          "name": "stdout"
        }
      ]
    },
    {
      "cell_type": "code",
      "metadata": {
        "id": "Pj30WQqCkpRh",
        "colab_type": "code",
        "colab": {
          "base_uri": "https://localhost:8080/",
          "height": 34
        },
        "outputId": "1068292f-4aa5-4722-c22f-ceccd4b3994b"
      },
      "source": [
        "print(grafo.get_arestas())"
      ],
      "execution_count": 5,
      "outputs": [
        {
          "output_type": "stream",
          "text": [
            "[('A', 'B'), ('B', 'C'), ('B', 'D'), ('C', 'E'), ('C', 'B'), ('D', 'A'), ('E', 'B')]\n"
          ],
          "name": "stdout"
        }
      ]
    },
    {
      "cell_type": "code",
      "metadata": {
        "id": "8_zdWZvak0Dx",
        "colab_type": "code",
        "colab": {
          "base_uri": "https://localhost:8080/",
          "height": 34
        },
        "outputId": "3891060b-a4e1-4294-a954-f958062f248a"
      },
      "source": [
        "print(grafo.existe_aresta('A', 'B'), grafo.existe_aresta('E', 'C'))"
      ],
      "execution_count": 6,
      "outputs": [
        {
          "output_type": "stream",
          "text": [
            "True False\n"
          ],
          "name": "stdout"
        }
      ]
    }
  ]
}