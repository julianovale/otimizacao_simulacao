{
  "nbformat": 4,
  "nbformat_minor": 0,
  "metadata": {
    "colab": {
      "name": "0001_Fila_MM1.ipynb",
      "provenance": [],
      "authorship_tag": "ABX9TyMQPhLLM9eg8osmubMaMmlK",
      "include_colab_link": true
    },
    "kernelspec": {
      "name": "python3",
      "display_name": "Python 3"
    }
  },
  "cells": [
    {
      "cell_type": "markdown",
      "metadata": {
        "id": "view-in-github",
        "colab_type": "text"
      },
      "source": [
        "<a href=\"https://colab.research.google.com/github/julianovale/simulacao_python/blob/master/0001_Fila_MM1.ipynb\" target=\"_parent\"><img src=\"https://colab.research.google.com/assets/colab-badge.svg\" alt=\"Open In Colab\"/></a>"
      ]
    },
    {
      "cell_type": "markdown",
      "metadata": {
        "id": "W9bEqif43BN-",
        "colab_type": "text"
      },
      "source": [
        "# Modelagem e Simulação de Eventos Discretos - Fila MM1"
      ]
    },
    {
      "cell_type": "code",
      "metadata": {
        "id": "FgJSnvpM2utv",
        "colab_type": "code",
        "colab": {}
      },
      "source": [
        "import random"
      ],
      "execution_count": 1,
      "outputs": []
    },
    {
      "cell_type": "markdown",
      "metadata": {
        "id": "K8Od2bCm5M00",
        "colab_type": "text"
      },
      "source": [
        "## Variáveis"
      ]
    },
    {
      "cell_type": "code",
      "metadata": {
        "id": "Ito4e7DM3V6V",
        "colab_type": "code",
        "colab": {}
      },
      "source": [
        "statusAtendente = 0 # indica o status do atendente (0 = livre; 1 = ocupado)\n",
        "clientesFila = 0 # número de clientes na fila\n",
        "atendimentos = 0 # contador de atendimentos\n",
        "tempoAtendente = 0.0 # tempo do atendente em atendimento\n",
        "relogio = 0 # contador de tempo\n",
        "TC = 10.0 # tempo médio entre chegadas de clientes\n",
        "TA = 8.0 # tempo médio de atendimento do atendente\n",
        "duracaoSimulacao = 1000.0 # tempo de simulação\n",
        "tempoProximaChegada = random.expovariate(1/TC)\n",
        "tempoTerminoAtendimento = duracaoSimulacao\n",
        "integralFila = 0\n",
        "tempoAnterior = 0"
      ],
      "execution_count": 2,
      "outputs": []
    },
    {
      "cell_type": "markdown",
      "metadata": {
        "id": "z2tpY92d5U2G",
        "colab_type": "text"
      },
      "source": [
        "## Simulação"
      ]
    },
    {
      "cell_type": "code",
      "metadata": {
        "id": "8YP3ldTF5Igh",
        "colab_type": "code",
        "colab": {}
      },
      "source": [
        ""
      ],
      "execution_count": null,
      "outputs": []
    }
  ]
}