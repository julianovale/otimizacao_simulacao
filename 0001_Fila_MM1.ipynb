{
  "nbformat": 4,
  "nbformat_minor": 0,
  "metadata": {
    "colab": {
      "name": "0001_Fila_MM1.ipynb",
      "provenance": [],
      "collapsed_sections": [],
      "authorship_tag": "ABX9TyNMUJkGVkiLu6/T+Y+VgLe0",
      "include_colab_link": true
    },
    "kernelspec": {
      "name": "python3",
      "display_name": "Python 3"
    }
  },
  "cells": [
    {
      "cell_type": "markdown",
      "metadata": {
        "id": "view-in-github",
        "colab_type": "text"
      },
      "source": [
        "<a href=\"https://colab.research.google.com/github/julianovale/simulacao_python/blob/master/0001_Fila_MM1.ipynb\" target=\"_parent\"><img src=\"https://colab.research.google.com/assets/colab-badge.svg\" alt=\"Open In Colab\"/></a>"
      ]
    },
    {
      "cell_type": "markdown",
      "metadata": {
        "id": "W9bEqif43BN-",
        "colab_type": "text"
      },
      "source": [
        "# Modelagem e Simulação de Eventos Discretos - Fila MM1"
      ]
    },
    {
      "cell_type": "code",
      "metadata": {
        "id": "FgJSnvpM2utv",
        "colab_type": "code",
        "colab": {}
      },
      "source": [
        "import random"
      ],
      "execution_count": 17,
      "outputs": []
    },
    {
      "cell_type": "markdown",
      "metadata": {
        "id": "K8Od2bCm5M00",
        "colab_type": "text"
      },
      "source": [
        "## Variáveis"
      ]
    },
    {
      "cell_type": "code",
      "metadata": {
        "id": "Ito4e7DM3V6V",
        "colab_type": "code",
        "colab": {}
      },
      "source": [
        "statusAtendente = 0 # indica o status do atendente (0 = livre; 1 = ocupado)\n",
        "clientesFila = 0 # número de clientes na fila\n",
        "atendimentos = 0 # contador de atendimentos\n",
        "tempoAtendente = 0.0 # tempo do atendente em atendimento\n",
        "relogio = 0 # \"relógio\" é um contador de tempo, ora bolas!\n",
        "TC = 10.0 # tempo médio entre chegadas de clientes\n",
        "TA = 8.0 # tempo médio de atendimento do atendente\n",
        "duracaoSimulacao = 1000.0 # tempo de simulação\n",
        "tempoProximaChegada = random.expovariate(1/TC)\n",
        "tempoTerminoAtendimento = duracaoSimulacao\n",
        "integralFila = 0\n",
        "tempoAnterior = 0"
      ],
      "execution_count": 18,
      "outputs": []
    },
    {
      "cell_type": "markdown",
      "metadata": {
        "id": "z2tpY92d5U2G",
        "colab_type": "text"
      },
      "source": [
        "## Simulação"
      ]
    },
    {
      "cell_type": "code",
      "metadata": {
        "id": "8YP3ldTF5Igh",
        "colab_type": "code",
        "colab": {}
      },
      "source": [
        "while (relogio <= duracaoSimulacao):\n",
        "  if tempoProximaChegada < tempoTerminoAtendimento:\n",
        "    relogio = tempoProximaChegada # relógio avança para a próxima chegada\n",
        "    integralFila += clientesFila * (relogio-tempoAnterior)\n",
        "    tempoAnterior = relogio\n",
        "    if statusAtendente == 0: # atendente livre\n",
        "      statusAtendente = 1\n",
        "      duracaoAtendimento = random.expovariate(1/TA)\n",
        "      tempoTerminoAtendimento = relogio + duracaoAtendimento\n",
        "      tempoAtendente += duracaoAtendimento\n",
        "    else: # atendente ocupado\n",
        "      clietesFila = clientesFila + 1\n",
        "    duracaoChegada = random.expovariate(1/TC)\n",
        "    tempoProximaChegada = relogio + duracaoChegada\n",
        "  else: # relógio avança para o término do atendimento\n",
        "    relogio = tempoTerminoAtendimento\n",
        "    atendimentos = atendimentos + 1\n",
        "    if clientesFila > 0: # ainda há cliente na fila\n",
        "      clientesFila = clientesFila - 1\n",
        "      duracaoAtendimento = random.expovariate(1/TA)\n",
        "      tempoTerminoAtendimento = relogio + duracaoAtendimento\n",
        "      tempoAtendente = tempoAtendente + duracaoAtendimento\n",
        "    else: # fila vazia, libera-se o atendente\n",
        "      statusAtendente = 0\n",
        "      duracaoChegada = random.expovariate(1/TC)\n",
        "      tempoProximaChegada = relogio + duracaoChegada\n",
        "      tempoTerminoAtendimento = duracaoSimulacao"
      ],
      "execution_count": 19,
      "outputs": []
    },
    {
      "cell_type": "markdown",
      "metadata": {
        "id": "o7aYTNVsAcW-",
        "colab_type": "text"
      },
      "source": [
        "## Exibição dos resultados"
      ]
    },
    {
      "cell_type": "code",
      "metadata": {
        "id": "XyMaqZX1AhyC",
        "colab_type": "code",
        "colab": {
          "base_uri": "https://localhost:8080/",
          "height": 85
        },
        "outputId": "5437c9a8-0678-48b0-af13-ad6748633d8a"
      },
      "source": [
        "print(\"Estatísticas da simulação:\")\n",
        "print(\"Clientes atendidos: \", atendimentos)\n",
        "print(\"Taxa de ocupação do atendente: \", tempoAtendente / duracaoSimulacao)\n",
        "print(\"Média de clientes na fila: \", integralFila / duracaoSimulacao)"
      ],
      "execution_count": 20,
      "outputs": [
        {
          "output_type": "stream",
          "text": [
            "Estatísticas da simulação:\n",
            "Clientes atendidos:  62\n",
            "Taxa de ocupação do atendente:  0.42908284803662033\n",
            "Média de clientes na fila:  0.0\n"
          ],
          "name": "stdout"
        }
      ]
    }
  ]
}