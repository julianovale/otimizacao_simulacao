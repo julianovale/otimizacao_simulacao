{
  "nbformat": 4,
  "nbformat_minor": 0,
  "metadata": {
    "colab": {
      "name": "0005_maximizacao_ind_textil.ipynb",
      "provenance": [],
      "collapsed_sections": [],
      "authorship_tag": "ABX9TyOOGfk7eMGxsA4kE1tU+udd",
      "include_colab_link": true
    },
    "kernelspec": {
      "name": "python3",
      "display_name": "Python 3"
    }
  },
  "cells": [
    {
      "cell_type": "markdown",
      "metadata": {
        "id": "view-in-github",
        "colab_type": "text"
      },
      "source": [
        "<a href=\"https://colab.research.google.com/github/julianovale/simulacao_python/blob/master/0005_maximizacao_ind_textil.ipynb\" target=\"_parent\"><img src=\"https://colab.research.google.com/assets/colab-badge.svg\" alt=\"Open In Colab\"/></a>"
      ]
    },
    {
      "cell_type": "code",
      "metadata": {
        "id": "Q-svie6tJIb1",
        "colab_type": "code",
        "colab": {
          "base_uri": "https://localhost:8080/",
          "height": 85
        },
        "outputId": "d1b4256b-8456-466d-ca05-34d57ef9151b"
      },
      "source": [
        "! pip install pulp\n",
        "from pulp import *"
      ],
      "execution_count": 31,
      "outputs": [
        {
          "output_type": "stream",
          "text": [
            "Requirement already satisfied: pulp in /usr/local/lib/python3.6/dist-packages (2.2)\n",
            "Requirement already satisfied: amply>=0.1.2 in /usr/local/lib/python3.6/dist-packages (from pulp) (0.1.2)\n",
            "Requirement already satisfied: pyparsing in /usr/local/lib/python3.6/dist-packages (from amply>=0.1.2->pulp) (2.4.7)\n",
            "Requirement already satisfied: docutils>=0.3 in /usr/local/lib/python3.6/dist-packages (from amply>=0.1.2->pulp) (0.15.2)\n"
          ],
          "name": "stdout"
        }
      ]
    },
    {
      "cell_type": "code",
      "metadata": {
        "id": "V6vrtu4AJeNV",
        "colab_type": "code",
        "colab": {}
      },
      "source": [
        "# Criando o problema de maximização\n",
        "prob = LpProblem('Desafio_1', LpMaximize)\n",
        "\n",
        "# Declarando as variáveis\n",
        "x1 = LpVariable(\"Blusa\", 0)\n",
        "x2 = LpVariable(\"Camiseta\", 0)"
      ],
      "execution_count": 32,
      "outputs": []
    },
    {
      "cell_type": "code",
      "metadata": {
        "id": "dJzQZUFxKO4q",
        "colab_type": "code",
        "colab": {}
      },
      "source": [
        "# Função Objetivo\n",
        "prob += 42*x1 + 23*x2\n",
        "\n",
        "# Restrições\n",
        "prob += 500*x1 + 300*x2 <= 2000000\n",
        "prob += x1 >= 300\n",
        "prob += x2 >= 500"
      ],
      "execution_count": 33,
      "outputs": []
    },
    {
      "cell_type": "code",
      "metadata": {
        "id": "QUksg0j-Kt4p",
        "colab_type": "code",
        "colab": {
          "base_uri": "https://localhost:8080/",
          "height": 34
        },
        "outputId": "0d9da004-d7f0-45ad-8d51-3779a9256806"
      },
      "source": [
        "# Comandando a solução\n",
        "prob.solve()"
      ],
      "execution_count": 34,
      "outputs": [
        {
          "output_type": "execute_result",
          "data": {
            "text/plain": [
              "1"
            ]
          },
          "metadata": {
            "tags": []
          },
          "execution_count": 34
        }
      ]
    },
    {
      "cell_type": "code",
      "metadata": {
        "id": "TcP58aAxK8cp",
        "colab_type": "code",
        "colab": {
          "base_uri": "https://localhost:8080/",
          "height": 68
        },
        "outputId": "ae9d4ada-b7ac-4068-a42d-a4fff058e72c"
      },
      "source": [
        "# Apresentando a solução\n",
        "for i in prob.variables():\n",
        "  print(i.name, \" = \", i.varValue)\n",
        "print('Lucro máximo =',value(prob.objective))"
      ],
      "execution_count": 36,
      "outputs": [
        {
          "output_type": "stream",
          "text": [
            "Blusa  =  3700.0\n",
            "Camiseta  =  500.0\n",
            "Lucro máximo = 166900.0\n"
          ],
          "name": "stdout"
        }
      ]
    }
  ]
}