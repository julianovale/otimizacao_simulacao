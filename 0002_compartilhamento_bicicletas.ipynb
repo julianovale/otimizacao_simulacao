{
  "nbformat": 4,
  "nbformat_minor": 0,
  "metadata": {
    "colab": {
      "name": "0002_compartilhamento_bicicletas.ipynb",
      "provenance": [],
      "collapsed_sections": [],
      "authorship_tag": "ABX9TyPi96WO047gjA7jb/DNmYji",
      "include_colab_link": true
    },
    "kernelspec": {
      "name": "python3",
      "display_name": "Python 3"
    }
  },
  "cells": [
    {
      "cell_type": "markdown",
      "metadata": {
        "id": "view-in-github",
        "colab_type": "text"
      },
      "source": [
        "<a href=\"https://colab.research.google.com/github/julianovale/simulacao_python/blob/master/0002_compartilhamento_bicicletas.ipynb\" target=\"_parent\"><img src=\"https://colab.research.google.com/assets/colab-badge.svg\" alt=\"Open In Colab\"/></a>"
      ]
    },
    {
      "cell_type": "markdown",
      "metadata": {
        "id": "9JjH2U6dqwY_",
        "colab_type": "text"
      },
      "source": [
        "# Simulando compartilhamento de bicicletas\n",
        "\n",
        "Caso:\n",
        "\n",
        "Há um bicicletário em cada universidade (Olin e Wellesley), cada um com capacidade para 12 biclicetas. Há, no total, 12 bicicletas compartilhadas entre as universidades.\n",
        "\n",
        "A cada 2 minutos, um estudante toma uma bicicleta em Olin e vai para Wellesley. A cada 3 minutos, um estudante toma uma bicileta em Wellesley e vai para Olin.\n",
        "\n",
        "Vamos simular os dois bicicletários e o movimento de bikes entre eles.\n"
      ]
    },
    {
      "cell_type": "markdown",
      "metadata": {
        "id": "zTvo5kiPqXQP",
        "colab_type": "text"
      },
      "source": [
        "## Instalando e importando as bibliotecas necessárias"
      ]
    },
    {
      "cell_type": "code",
      "metadata": {
        "id": "IIu16aaUlCe_",
        "colab_type": "code",
        "colab": {
          "base_uri": "https://localhost:8080/",
          "height": 34
        },
        "outputId": "312a9f2c-7a9f-4d62-9387-eb1c14b6f3e1"
      },
      "source": [
        "! pip install modsimpy"
      ],
      "execution_count": 44,
      "outputs": [
        {
          "output_type": "stream",
          "text": [
            "Requirement already satisfied: modsimpy in /usr/local/lib/python3.6/dist-packages (1.1.3)\n"
          ],
          "name": "stdout"
        }
      ]
    },
    {
      "cell_type": "code",
      "metadata": {
        "id": "bjb0MbAUo8le",
        "colab_type": "code",
        "colab": {
          "base_uri": "https://localhost:8080/",
          "height": 136
        },
        "outputId": "12b11b14-8c56-4a21-ae89-1f80d0b5d75b"
      },
      "source": [
        "! pip install pint"
      ],
      "execution_count": 45,
      "outputs": [
        {
          "output_type": "stream",
          "text": [
            "Requirement already satisfied: pint in /usr/local/lib/python3.6/dist-packages (0.14)\n",
            "Requirement already satisfied: importlib-metadata; python_version < \"3.8\" in /usr/local/lib/python3.6/dist-packages (from pint) (1.6.1)\n",
            "Requirement already satisfied: packaging in /usr/local/lib/python3.6/dist-packages (from pint) (20.4)\n",
            "Requirement already satisfied: setuptools in /usr/local/lib/python3.6/dist-packages (from pint) (47.3.1)\n",
            "Requirement already satisfied: zipp>=0.5 in /usr/local/lib/python3.6/dist-packages (from importlib-metadata; python_version < \"3.8\"->pint) (3.1.0)\n",
            "Requirement already satisfied: six in /usr/local/lib/python3.6/dist-packages (from packaging->pint) (1.12.0)\n",
            "Requirement already satisfied: pyparsing>=2.0.2 in /usr/local/lib/python3.6/dist-packages (from packaging->pint) (2.4.7)\n"
          ],
          "name": "stdout"
        }
      ]
    },
    {
      "cell_type": "code",
      "metadata": {
        "id": "IK_ZhSJ2LwkJ",
        "colab_type": "code",
        "colab": {}
      },
      "source": [
        "from modsim import *"
      ],
      "execution_count": 46,
      "outputs": []
    },
    {
      "cell_type": "markdown",
      "metadata": {
        "id": "EmPvoQh5qkl-",
        "colab_type": "text"
      },
      "source": [
        "## Estado inicial"
      ]
    },
    {
      "cell_type": "code",
      "metadata": {
        "id": "mveL2wiYotKq",
        "colab_type": "code",
        "colab": {}
      },
      "source": [
        "bikeshare = State(olin = 10, wellesley = 2) # State é da MODSIM Library"
      ],
      "execution_count": 47,
      "outputs": []
    },
    {
      "cell_type": "code",
      "metadata": {
        "id": "jYDs-2oxp29i",
        "colab_type": "code",
        "colab": {
          "base_uri": "https://localhost:8080/",
          "height": 34
        },
        "outputId": "0865a0da-2aed-4b43-a3ec-da1c6b3aabc0"
      },
      "source": [
        "bikeshare.olin"
      ],
      "execution_count": 48,
      "outputs": [
        {
          "output_type": "execute_result",
          "data": {
            "text/plain": [
              "10"
            ]
          },
          "metadata": {
            "tags": []
          },
          "execution_count": 48
        }
      ]
    },
    {
      "cell_type": "code",
      "metadata": {
        "id": "-n7cxf0eqELY",
        "colab_type": "code",
        "colab": {
          "base_uri": "https://localhost:8080/",
          "height": 34
        },
        "outputId": "4a5cfbd4-9dfb-4a16-e9b3-d700db7af1fb"
      },
      "source": [
        "bikeshare.wellesley"
      ],
      "execution_count": 49,
      "outputs": [
        {
          "output_type": "execute_result",
          "data": {
            "text/plain": [
              "2"
            ]
          },
          "metadata": {
            "tags": []
          },
          "execution_count": 49
        }
      ]
    },
    {
      "cell_type": "code",
      "metadata": {
        "id": "GDG_tPWyqH4r",
        "colab_type": "code",
        "colab": {
          "base_uri": "https://localhost:8080/",
          "height": 111
        },
        "outputId": "bc7e2fbe-5341-450d-82a3-6fa76f4a00b4"
      },
      "source": [
        "bikeshare"
      ],
      "execution_count": 50,
      "outputs": [
        {
          "output_type": "execute_result",
          "data": {
            "text/html": [
              "<div>\n",
              "<style scoped>\n",
              "    .dataframe tbody tr th:only-of-type {\n",
              "        vertical-align: middle;\n",
              "    }\n",
              "\n",
              "    .dataframe tbody tr th {\n",
              "        vertical-align: top;\n",
              "    }\n",
              "\n",
              "    .dataframe thead th {\n",
              "        text-align: right;\n",
              "    }\n",
              "</style>\n",
              "<table border=\"1\" class=\"dataframe\">\n",
              "  <thead>\n",
              "    <tr style=\"text-align: right;\">\n",
              "      <th></th>\n",
              "      <th>values</th>\n",
              "    </tr>\n",
              "  </thead>\n",
              "  <tbody>\n",
              "    <tr>\n",
              "      <th>olin</th>\n",
              "      <td>10</td>\n",
              "    </tr>\n",
              "    <tr>\n",
              "      <th>wellesley</th>\n",
              "      <td>2</td>\n",
              "    </tr>\n",
              "  </tbody>\n",
              "</table>\n",
              "</div>"
            ],
            "text/plain": [
              "olin         10\n",
              "wellesley     2\n",
              "dtype: int64"
            ]
          },
          "metadata": {
            "tags": []
          },
          "execution_count": 50
        }
      ]
    },
    {
      "cell_type": "markdown",
      "metadata": {
        "id": "fNqSljlcrQCg",
        "colab_type": "text"
      },
      "source": [
        "## Assumindo novos valores"
      ]
    },
    {
      "cell_type": "code",
      "metadata": {
        "id": "zMJV_KYfrUu-",
        "colab_type": "code",
        "colab": {}
      },
      "source": [
        "bikeshare.olin = 9\n",
        "bikeshare.wellesley = 3"
      ],
      "execution_count": 51,
      "outputs": []
    },
    {
      "cell_type": "code",
      "metadata": {
        "id": "KeUIriSdrd3_",
        "colab_type": "code",
        "colab": {
          "base_uri": "https://localhost:8080/",
          "height": 111
        },
        "outputId": "797cb4b7-c594-4c78-b6df-ce1e3054a3e1"
      },
      "source": [
        "bikeshare"
      ],
      "execution_count": 52,
      "outputs": [
        {
          "output_type": "execute_result",
          "data": {
            "text/html": [
              "<div>\n",
              "<style scoped>\n",
              "    .dataframe tbody tr th:only-of-type {\n",
              "        vertical-align: middle;\n",
              "    }\n",
              "\n",
              "    .dataframe tbody tr th {\n",
              "        vertical-align: top;\n",
              "    }\n",
              "\n",
              "    .dataframe thead th {\n",
              "        text-align: right;\n",
              "    }\n",
              "</style>\n",
              "<table border=\"1\" class=\"dataframe\">\n",
              "  <thead>\n",
              "    <tr style=\"text-align: right;\">\n",
              "      <th></th>\n",
              "      <th>values</th>\n",
              "    </tr>\n",
              "  </thead>\n",
              "  <tbody>\n",
              "    <tr>\n",
              "      <th>olin</th>\n",
              "      <td>9</td>\n",
              "    </tr>\n",
              "    <tr>\n",
              "      <th>wellesley</th>\n",
              "      <td>3</td>\n",
              "    </tr>\n",
              "  </tbody>\n",
              "</table>\n",
              "</div>"
            ],
            "text/plain": [
              "olin         9\n",
              "wellesley    3\n",
              "dtype: int64"
            ]
          },
          "metadata": {
            "tags": []
          },
          "execution_count": 52
        }
      ]
    },
    {
      "cell_type": "markdown",
      "metadata": {
        "id": "UBnhlaQGrlTu",
        "colab_type": "text"
      },
      "source": [
        "## Atualizando valores"
      ]
    },
    {
      "cell_type": "code",
      "metadata": {
        "id": "k5n8osnKrn2G",
        "colab_type": "code",
        "colab": {}
      },
      "source": [
        "bikeshare.olin -= 1\n",
        "bikeshare.wellesley += 1"
      ],
      "execution_count": 53,
      "outputs": []
    },
    {
      "cell_type": "code",
      "metadata": {
        "id": "tyV9VWhEryDn",
        "colab_type": "code",
        "colab": {
          "base_uri": "https://localhost:8080/",
          "height": 111
        },
        "outputId": "66e250d8-414a-446c-c4f7-46e9c34d01c7"
      },
      "source": [
        "bikeshare"
      ],
      "execution_count": 54,
      "outputs": [
        {
          "output_type": "execute_result",
          "data": {
            "text/html": [
              "<div>\n",
              "<style scoped>\n",
              "    .dataframe tbody tr th:only-of-type {\n",
              "        vertical-align: middle;\n",
              "    }\n",
              "\n",
              "    .dataframe tbody tr th {\n",
              "        vertical-align: top;\n",
              "    }\n",
              "\n",
              "    .dataframe thead th {\n",
              "        text-align: right;\n",
              "    }\n",
              "</style>\n",
              "<table border=\"1\" class=\"dataframe\">\n",
              "  <thead>\n",
              "    <tr style=\"text-align: right;\">\n",
              "      <th></th>\n",
              "      <th>values</th>\n",
              "    </tr>\n",
              "  </thead>\n",
              "  <tbody>\n",
              "    <tr>\n",
              "      <th>olin</th>\n",
              "      <td>8</td>\n",
              "    </tr>\n",
              "    <tr>\n",
              "      <th>wellesley</th>\n",
              "      <td>4</td>\n",
              "    </tr>\n",
              "  </tbody>\n",
              "</table>\n",
              "</div>"
            ],
            "text/plain": [
              "olin         8\n",
              "wellesley    4\n",
              "dtype: int64"
            ]
          },
          "metadata": {
            "tags": []
          },
          "execution_count": 54
        }
      ]
    },
    {
      "cell_type": "markdown",
      "metadata": {
        "id": "SNO2DwBbr8wo",
        "colab_type": "text"
      },
      "source": [
        "## Criando função para atualizar valores"
      ]
    },
    {
      "cell_type": "code",
      "metadata": {
        "id": "r63IIJSosBd1",
        "colab_type": "code",
        "colab": {}
      },
      "source": [
        "def bike_to_wellesley():\n",
        "  bikeshare.olin -= 1\n",
        "  bikeshare.wellesley += 1"
      ],
      "execution_count": 55,
      "outputs": []
    },
    {
      "cell_type": "code",
      "metadata": {
        "id": "35YjgP6dsMM2",
        "colab_type": "code",
        "colab": {}
      },
      "source": [
        "def bike_to_olin():\n",
        "  bikeshare.wellesley -= 1\n",
        "  bikeshare.olin += 1"
      ],
      "execution_count": 56,
      "outputs": []
    },
    {
      "cell_type": "code",
      "metadata": {
        "id": "_p6Y1rxrsbFt",
        "colab_type": "code",
        "colab": {
          "base_uri": "https://localhost:8080/",
          "height": 111
        },
        "outputId": "5c01ec5f-bff5-4912-dd3b-aeef6c280048"
      },
      "source": [
        "bike_to_wellesley()\n",
        "bikeshare"
      ],
      "execution_count": 57,
      "outputs": [
        {
          "output_type": "execute_result",
          "data": {
            "text/html": [
              "<div>\n",
              "<style scoped>\n",
              "    .dataframe tbody tr th:only-of-type {\n",
              "        vertical-align: middle;\n",
              "    }\n",
              "\n",
              "    .dataframe tbody tr th {\n",
              "        vertical-align: top;\n",
              "    }\n",
              "\n",
              "    .dataframe thead th {\n",
              "        text-align: right;\n",
              "    }\n",
              "</style>\n",
              "<table border=\"1\" class=\"dataframe\">\n",
              "  <thead>\n",
              "    <tr style=\"text-align: right;\">\n",
              "      <th></th>\n",
              "      <th>values</th>\n",
              "    </tr>\n",
              "  </thead>\n",
              "  <tbody>\n",
              "    <tr>\n",
              "      <th>olin</th>\n",
              "      <td>7</td>\n",
              "    </tr>\n",
              "    <tr>\n",
              "      <th>wellesley</th>\n",
              "      <td>5</td>\n",
              "    </tr>\n",
              "  </tbody>\n",
              "</table>\n",
              "</div>"
            ],
            "text/plain": [
              "olin         7\n",
              "wellesley    5\n",
              "dtype: int64"
            ]
          },
          "metadata": {
            "tags": []
          },
          "execution_count": 57
        }
      ]
    },
    {
      "cell_type": "code",
      "metadata": {
        "id": "AmWpzMw1stG9",
        "colab_type": "code",
        "colab": {
          "base_uri": "https://localhost:8080/",
          "height": 111
        },
        "outputId": "ca92b7d1-c5dc-4571-a06d-4c1dfd6474a3"
      },
      "source": [
        "bike_to_olin()\n",
        "bikeshare"
      ],
      "execution_count": 58,
      "outputs": [
        {
          "output_type": "execute_result",
          "data": {
            "text/html": [
              "<div>\n",
              "<style scoped>\n",
              "    .dataframe tbody tr th:only-of-type {\n",
              "        vertical-align: middle;\n",
              "    }\n",
              "\n",
              "    .dataframe tbody tr th {\n",
              "        vertical-align: top;\n",
              "    }\n",
              "\n",
              "    .dataframe thead th {\n",
              "        text-align: right;\n",
              "    }\n",
              "</style>\n",
              "<table border=\"1\" class=\"dataframe\">\n",
              "  <thead>\n",
              "    <tr style=\"text-align: right;\">\n",
              "      <th></th>\n",
              "      <th>values</th>\n",
              "    </tr>\n",
              "  </thead>\n",
              "  <tbody>\n",
              "    <tr>\n",
              "      <th>olin</th>\n",
              "      <td>8</td>\n",
              "    </tr>\n",
              "    <tr>\n",
              "      <th>wellesley</th>\n",
              "      <td>4</td>\n",
              "    </tr>\n",
              "  </tbody>\n",
              "</table>\n",
              "</div>"
            ],
            "text/plain": [
              "olin         8\n",
              "wellesley    4\n",
              "dtype: int64"
            ]
          },
          "metadata": {
            "tags": []
          },
          "execution_count": 58
        }
      ]
    },
    {
      "cell_type": "markdown",
      "metadata": {
        "id": "4uSZKo_XtOnl",
        "colab_type": "text"
      },
      "source": [
        "## Imprimindo valores"
      ]
    },
    {
      "cell_type": "code",
      "metadata": {
        "id": "u184ZIjEtSPG",
        "colab_type": "code",
        "colab": {
          "base_uri": "https://localhost:8080/",
          "height": 34
        },
        "outputId": "d93f0427-4c0f-4afa-904a-20a0111f1e1d"
      },
      "source": [
        "\n",
        "bikeshare.wellesley\n",
        "bikeshare.olin\n",
        "# se eu rodar esses comandos os dois serão rodados, mas será exibido só o valor do último, então, usando o print(), isso se resolve  "
      ],
      "execution_count": 59,
      "outputs": [
        {
          "output_type": "execute_result",
          "data": {
            "text/plain": [
              "8"
            ]
          },
          "metadata": {
            "tags": []
          },
          "execution_count": 59
        }
      ]
    },
    {
      "cell_type": "code",
      "metadata": {
        "id": "bRU234mItn-o",
        "colab_type": "code",
        "colab": {
          "base_uri": "https://localhost:8080/",
          "height": 51
        },
        "outputId": "e7fc2cba-2486-4d99-cd8b-370bcf404cee"
      },
      "source": [
        "print(bikeshare.wellesley)\n",
        "print(bikeshare.olin)"
      ],
      "execution_count": 60,
      "outputs": [
        {
          "output_type": "stream",
          "text": [
            "4\n",
            "8\n"
          ],
          "name": "stdout"
        }
      ]
    },
    {
      "cell_type": "code",
      "metadata": {
        "id": "6MzvqjtMtyV2",
        "colab_type": "code",
        "colab": {
          "base_uri": "https://localhost:8080/",
          "height": 34
        },
        "outputId": "389fc386-e1a9-42cf-ec47-ecc0542f616c"
      },
      "source": [
        "print(bikeshare.wellesley, bikeshare.olin)"
      ],
      "execution_count": 61,
      "outputs": [
        {
          "output_type": "stream",
          "text": [
            "4 8\n"
          ],
          "name": "stdout"
        }
      ]
    },
    {
      "cell_type": "code",
      "metadata": {
        "id": "E_2ies9BuPVG",
        "colab_type": "code",
        "colab": {}
      },
      "source": [
        "def bike_to_wellesley():\n",
        "  print('movendo uma bike para Wellesley')\n",
        "  bikeshare.olin -= 1\n",
        "  bikeshare.wellesley += 1"
      ],
      "execution_count": 62,
      "outputs": []
    },
    {
      "cell_type": "code",
      "metadata": {
        "id": "mjJO36UauPvv",
        "colab_type": "code",
        "colab": {}
      },
      "source": [
        "def bike_to_olin():\n",
        "  print('movendo uma bike para Olin')\n",
        "  bikeshare.wellesley -= 1\n",
        "  bikeshare.olin += 1"
      ],
      "execution_count": 63,
      "outputs": []
    },
    {
      "cell_type": "code",
      "metadata": {
        "id": "oGRlhmEWugKm",
        "colab_type": "code",
        "colab": {
          "base_uri": "https://localhost:8080/",
          "height": 34
        },
        "outputId": "1aa09bae-4d44-447c-e3b0-3dfe769bdc1d"
      },
      "source": [
        "bike_to_olin()"
      ],
      "execution_count": 64,
      "outputs": [
        {
          "output_type": "stream",
          "text": [
            "movendo uma bike para Olin\n"
          ],
          "name": "stdout"
        }
      ]
    },
    {
      "cell_type": "code",
      "metadata": {
        "id": "x4jN3wYcukHN",
        "colab_type": "code",
        "colab": {
          "base_uri": "https://localhost:8080/",
          "height": 34
        },
        "outputId": "9c1e8db3-07a4-47ba-b392-c4ff43274ab8"
      },
      "source": [
        "bike_to_wellesley()"
      ],
      "execution_count": 65,
      "outputs": [
        {
          "output_type": "stream",
          "text": [
            "movendo uma bike para Wellesley\n"
          ],
          "name": "stdout"
        }
      ]
    },
    {
      "cell_type": "code",
      "metadata": {
        "id": "wxlRM609unud",
        "colab_type": "code",
        "colab": {
          "base_uri": "https://localhost:8080/",
          "height": 111
        },
        "outputId": "4d5c26e1-36a5-4832-d408-e2dfacf92ab6"
      },
      "source": [
        "bikeshare"
      ],
      "execution_count": 66,
      "outputs": [
        {
          "output_type": "execute_result",
          "data": {
            "text/html": [
              "<div>\n",
              "<style scoped>\n",
              "    .dataframe tbody tr th:only-of-type {\n",
              "        vertical-align: middle;\n",
              "    }\n",
              "\n",
              "    .dataframe tbody tr th {\n",
              "        vertical-align: top;\n",
              "    }\n",
              "\n",
              "    .dataframe thead th {\n",
              "        text-align: right;\n",
              "    }\n",
              "</style>\n",
              "<table border=\"1\" class=\"dataframe\">\n",
              "  <thead>\n",
              "    <tr style=\"text-align: right;\">\n",
              "      <th></th>\n",
              "      <th>values</th>\n",
              "    </tr>\n",
              "  </thead>\n",
              "  <tbody>\n",
              "    <tr>\n",
              "      <th>olin</th>\n",
              "      <td>8</td>\n",
              "    </tr>\n",
              "    <tr>\n",
              "      <th>wellesley</th>\n",
              "      <td>4</td>\n",
              "    </tr>\n",
              "  </tbody>\n",
              "</table>\n",
              "</div>"
            ],
            "text/plain": [
              "olin         8\n",
              "wellesley    4\n",
              "dtype: int64"
            ]
          },
          "metadata": {
            "tags": []
          },
          "execution_count": 66
        }
      ]
    },
    {
      "cell_type": "markdown",
      "metadata": {
        "id": "pF-6o0TJOyKc",
        "colab_type": "text"
      },
      "source": [
        "## If"
      ]
    },
    {
      "cell_type": "code",
      "metadata": {
        "id": "JoB76cpdMRQq",
        "colab_type": "code",
        "colab": {
          "base_uri": "https://localhost:8080/",
          "height": 34
        },
        "outputId": "09180ee2-93e4-476e-d8d0-6acf0a9e6bd7"
      },
      "source": [
        "flip(0.7) # MODSIM library: gera aleatoriamente \"True\" ou \"False\", neste caso: (flip) com 70% de chance de \"True\"; ou, (flop) para 30% de \"False\".\n"
      ],
      "execution_count": 67,
      "outputs": [
        {
          "output_type": "execute_result",
          "data": {
            "text/plain": [
              "True"
            ]
          },
          "metadata": {
            "tags": []
          },
          "execution_count": 67
        }
      ]
    },
    {
      "cell_type": "code",
      "metadata": {
        "id": "6AMsef4qO-Tu",
        "colab_type": "code",
        "colab": {
          "base_uri": "https://localhost:8080/",
          "height": 34
        },
        "outputId": "ef01911e-3cca-4d53-89f9-ce80c377ef53"
      },
      "source": [
        "# Um exemplo de uso\n",
        "if flip(0.5):\n",
        "  print(\"cara\")\n",
        "else:\n",
        "  print(\"coroa\")"
      ],
      "execution_count": 68,
      "outputs": [
        {
          "output_type": "stream",
          "text": [
            "coroa\n"
          ],
          "name": "stdout"
        }
      ]
    },
    {
      "cell_type": "code",
      "metadata": {
        "id": "kgI-IKnCPQfW",
        "colab_type": "code",
        "colab": {}
      },
      "source": [
        ""
      ],
      "execution_count": 68,
      "outputs": []
    },
    {
      "cell_type": "markdown",
      "metadata": {
        "id": "iJ4Zj1bFPe4G",
        "colab_type": "text"
      },
      "source": [
        "Veja:\n",
        "\n",
        "Se um estudante sai de Olin para Wellesley a cada 2 minutos, a probabilidade de em um minuto particular partir um estudante nesse sentido é de 0.5; e sai um estudante de Wellesley para Olin a cada 3 minutos, então a probabilidade num dado minuto de sair um estudante é de 0.33. Vamos modelar isso:"
      ]
    },
    {
      "cell_type": "code",
      "metadata": {
        "id": "Tt6QwPtkQAx1",
        "colab_type": "code",
        "colab": {
          "base_uri": "https://localhost:8080/",
          "height": 34
        },
        "outputId": "8f150a81-3735-48b2-faae-86d2ba34d0c0"
      },
      "source": [
        "if flip(0.5):\n",
        "  bike_to_wellesley()"
      ],
      "execution_count": 69,
      "outputs": [
        {
          "output_type": "stream",
          "text": [
            "movendo uma bike para Wellesley\n"
          ],
          "name": "stdout"
        }
      ]
    },
    {
      "cell_type": "code",
      "metadata": {
        "id": "fZepgy7nQOW9",
        "colab_type": "code",
        "colab": {
          "base_uri": "https://localhost:8080/",
          "height": 34
        },
        "outputId": "883bd6e3-badc-41be-ea12-8f19e6bd6385"
      },
      "source": [
        "if flip(0.33):\n",
        "  bike_to_olin()"
      ],
      "execution_count": 70,
      "outputs": [
        {
          "output_type": "stream",
          "text": [
            "movendo uma bike para Olin\n"
          ],
          "name": "stdout"
        }
      ]
    },
    {
      "cell_type": "markdown",
      "metadata": {
        "id": "lTiSZwKAQbXV",
        "colab_type": "text"
      },
      "source": [
        "Vamos modelar o que pode ocorrer num minuto particular (um passo do modelo):"
      ]
    },
    {
      "cell_type": "code",
      "metadata": {
        "id": "DAInjLMqQihH",
        "colab_type": "code",
        "colab": {}
      },
      "source": [
        "def step():\n",
        "  if flip(0.5):\n",
        "    bike_to_wellesley()\n",
        "  if flip(0.33):\n",
        "    bike_to_olin()"
      ],
      "execution_count": 71,
      "outputs": []
    },
    {
      "cell_type": "code",
      "metadata": {
        "id": "Y0ECdz4bQxoW",
        "colab_type": "code",
        "colab": {
          "base_uri": "https://localhost:8080/",
          "height": 34
        },
        "outputId": "eb293e88-bc50-4e90-8421-c87d30a26bd8"
      },
      "source": [
        "step()"
      ],
      "execution_count": 72,
      "outputs": [
        {
          "output_type": "stream",
          "text": [
            "movendo uma bike para Wellesley\n"
          ],
          "name": "stdout"
        }
      ]
    },
    {
      "cell_type": "code",
      "metadata": {
        "id": "GEGmRxReRcTg",
        "colab_type": "code",
        "colab": {
          "base_uri": "https://localhost:8080/",
          "height": 111
        },
        "outputId": "7f8fbc6e-d70e-4e0e-bfaf-c252329bedf6"
      },
      "source": [
        "bikeshare"
      ],
      "execution_count": 73,
      "outputs": [
        {
          "output_type": "execute_result",
          "data": {
            "text/html": [
              "<div>\n",
              "<style scoped>\n",
              "    .dataframe tbody tr th:only-of-type {\n",
              "        vertical-align: middle;\n",
              "    }\n",
              "\n",
              "    .dataframe tbody tr th {\n",
              "        vertical-align: top;\n",
              "    }\n",
              "\n",
              "    .dataframe thead th {\n",
              "        text-align: right;\n",
              "    }\n",
              "</style>\n",
              "<table border=\"1\" class=\"dataframe\">\n",
              "  <thead>\n",
              "    <tr style=\"text-align: right;\">\n",
              "      <th></th>\n",
              "      <th>values</th>\n",
              "    </tr>\n",
              "  </thead>\n",
              "  <tbody>\n",
              "    <tr>\n",
              "      <th>olin</th>\n",
              "      <td>7</td>\n",
              "    </tr>\n",
              "    <tr>\n",
              "      <th>wellesley</th>\n",
              "      <td>5</td>\n",
              "    </tr>\n",
              "  </tbody>\n",
              "</table>\n",
              "</div>"
            ],
            "text/plain": [
              "olin         7\n",
              "wellesley    5\n",
              "dtype: int64"
            ]
          },
          "metadata": {
            "tags": []
          },
          "execution_count": 73
        }
      ]
    },
    {
      "cell_type": "markdown",
      "metadata": {
        "id": "OrckVHjETIZI",
        "colab_type": "text"
      },
      "source": [
        "## Parâmetros e argumentos"
      ]
    },
    {
      "cell_type": "code",
      "metadata": {
        "id": "_zbWQOiKTLiN",
        "colab_type": "code",
        "colab": {}
      },
      "source": [
        "def step(p1, p2): # p1 e p2 são parâmetros da função\n",
        "  if flip(p1):\n",
        "    bike_to_wellesley()\n",
        "  \n",
        "  if flip(p2):\n",
        "    bike_to_olin()"
      ],
      "execution_count": 74,
      "outputs": []
    },
    {
      "cell_type": "code",
      "metadata": {
        "id": "gM_vKdqxTboe",
        "colab_type": "code",
        "colab": {
          "base_uri": "https://localhost:8080/",
          "height": 34
        },
        "outputId": "c3aa66ae-c03e-4082-8aee-34654746d2bf"
      },
      "source": [
        "step(0.5, 0.33) # 0.5 e 0.33 são argumentos"
      ],
      "execution_count": 75,
      "outputs": [
        {
          "output_type": "stream",
          "text": [
            "movendo uma bike para Olin\n"
          ],
          "name": "stdout"
        }
      ]
    },
    {
      "cell_type": "markdown",
      "metadata": {
        "id": "w53DH2MvUBvk",
        "colab_type": "text"
      },
      "source": [
        "## For"
      ]
    },
    {
      "cell_type": "code",
      "metadata": {
        "id": "0O6UuFWgUD_0",
        "colab_type": "code",
        "colab": {
          "base_uri": "https://localhost:8080/",
          "height": 85
        },
        "outputId": "059ce2eb-1850-4b39-c7c5-8781955695f4"
      },
      "source": [
        "for i in range(4):\n",
        "  bike_to_wellesley()"
      ],
      "execution_count": 76,
      "outputs": [
        {
          "output_type": "stream",
          "text": [
            "movendo uma bike para Wellesley\n",
            "movendo uma bike para Wellesley\n",
            "movendo uma bike para Wellesley\n",
            "movendo uma bike para Wellesley\n"
          ],
          "name": "stdout"
        }
      ]
    },
    {
      "cell_type": "markdown",
      "metadata": {
        "id": "kCVVNUtACWvx",
        "colab_type": "text"
      },
      "source": [
        "## Time series"
      ]
    },
    {
      "cell_type": "code",
      "metadata": {
        "id": "rlSq2IckCarL",
        "colab_type": "code",
        "colab": {}
      },
      "source": [
        "results = TimeSeries() # TimeSeries é da biblioteca MODSIM"
      ],
      "execution_count": 77,
      "outputs": []
    },
    {
      "cell_type": "code",
      "metadata": {
        "id": "eatLJ2NgCrqi",
        "colab_type": "code",
        "colab": {}
      },
      "source": [
        "results[0] = bikeshare.olin"
      ],
      "execution_count": 78,
      "outputs": []
    },
    {
      "cell_type": "code",
      "metadata": {
        "id": "sppEY57KC1J8",
        "colab_type": "code",
        "colab": {
          "base_uri": "https://localhost:8080/",
          "height": 85
        },
        "outputId": "8b9a65be-16d1-4aca-957e-fd89e9b2f756"
      },
      "source": [
        "for i in range(10):\n",
        "  step(0.3, 0.2)\n",
        "  results[i] = bikeshare.olin"
      ],
      "execution_count": 79,
      "outputs": [
        {
          "output_type": "stream",
          "text": [
            "movendo uma bike para Wellesley\n",
            "movendo uma bike para Olin\n",
            "movendo uma bike para Wellesley\n",
            "movendo uma bike para Wellesley\n"
          ],
          "name": "stdout"
        }
      ]
    },
    {
      "cell_type": "code",
      "metadata": {
        "id": "Ampg1_GoDE3s",
        "colab_type": "code",
        "colab": {
          "base_uri": "https://localhost:8080/",
          "height": 359
        },
        "outputId": "926a8093-9e95-425b-f0aa-111ab0b23934"
      },
      "source": [
        "results"
      ],
      "execution_count": 80,
      "outputs": [
        {
          "output_type": "execute_result",
          "data": {
            "text/html": [
              "<div>\n",
              "<style scoped>\n",
              "    .dataframe tbody tr th:only-of-type {\n",
              "        vertical-align: middle;\n",
              "    }\n",
              "\n",
              "    .dataframe tbody tr th {\n",
              "        vertical-align: top;\n",
              "    }\n",
              "\n",
              "    .dataframe thead th {\n",
              "        text-align: right;\n",
              "    }\n",
              "</style>\n",
              "<table border=\"1\" class=\"dataframe\">\n",
              "  <thead>\n",
              "    <tr style=\"text-align: right;\">\n",
              "      <th></th>\n",
              "      <th>values</th>\n",
              "    </tr>\n",
              "  </thead>\n",
              "  <tbody>\n",
              "    <tr>\n",
              "      <th>0</th>\n",
              "      <td>4</td>\n",
              "    </tr>\n",
              "    <tr>\n",
              "      <th>1</th>\n",
              "      <td>3</td>\n",
              "    </tr>\n",
              "    <tr>\n",
              "      <th>2</th>\n",
              "      <td>3</td>\n",
              "    </tr>\n",
              "    <tr>\n",
              "      <th>3</th>\n",
              "      <td>2</td>\n",
              "    </tr>\n",
              "    <tr>\n",
              "      <th>4</th>\n",
              "      <td>2</td>\n",
              "    </tr>\n",
              "    <tr>\n",
              "      <th>5</th>\n",
              "      <td>2</td>\n",
              "    </tr>\n",
              "    <tr>\n",
              "      <th>6</th>\n",
              "      <td>2</td>\n",
              "    </tr>\n",
              "    <tr>\n",
              "      <th>7</th>\n",
              "      <td>2</td>\n",
              "    </tr>\n",
              "    <tr>\n",
              "      <th>8</th>\n",
              "      <td>2</td>\n",
              "    </tr>\n",
              "    <tr>\n",
              "      <th>9</th>\n",
              "      <td>2</td>\n",
              "    </tr>\n",
              "  </tbody>\n",
              "</table>\n",
              "</div>"
            ],
            "text/plain": [
              "0    4\n",
              "1    3\n",
              "2    3\n",
              "3    2\n",
              "4    2\n",
              "5    2\n",
              "6    2\n",
              "7    2\n",
              "8    2\n",
              "9    2\n",
              "dtype: int64"
            ]
          },
          "metadata": {
            "tags": []
          },
          "execution_count": 80
        }
      ]
    },
    {
      "cell_type": "code",
      "metadata": {
        "id": "BQ0RzyzlDV86",
        "colab_type": "code",
        "colab": {
          "base_uri": "https://localhost:8080/",
          "height": 34
        },
        "outputId": "15f441a9-8f60-4cb1-ceb4-ec3cc6d175db"
      },
      "source": [
        "results.mean()"
      ],
      "execution_count": 81,
      "outputs": [
        {
          "output_type": "execute_result",
          "data": {
            "text/plain": [
              "2.4"
            ]
          },
          "metadata": {
            "tags": []
          },
          "execution_count": 81
        }
      ]
    },
    {
      "cell_type": "markdown",
      "metadata": {
        "id": "uWLOPc5HDw4u",
        "colab_type": "text"
      },
      "source": [
        "## Plotting"
      ]
    },
    {
      "cell_type": "code",
      "metadata": {
        "id": "u3g63vuFD4Pk",
        "colab_type": "code",
        "colab": {
          "base_uri": "https://localhost:8080/",
          "height": 288
        },
        "outputId": "ad12c79b-0e9d-4195-c555-ba3ff5946628"
      },
      "source": [
        "plot(results, label = \"Olin\")\n",
        "decorate(title = \"Olin - Wellesley bikeshare\",\n",
        "         xlabel = \"Time step (min)\",\n",
        "         ylabel = \"Number of bikes\")"
      ],
      "execution_count": 82,
      "outputs": [
        {
          "output_type": "display_data",
          "data": {
            "image/png": "[encoded data removed]",
            "text/plain": [
              "<Figure size 432x288 with 1 Axes>"
            ]
          },
          "metadata": {
            "tags": []
          }
        }
      ]
    }
  ]
}