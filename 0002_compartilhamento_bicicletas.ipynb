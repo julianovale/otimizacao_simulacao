{
  "nbformat": 4,
  "nbformat_minor": 0,
  "metadata": {
    "colab": {
      "name": "0002_compartilhamento_bicicletas.ipynb",
      "provenance": [],
      "collapsed_sections": [],
      "authorship_tag": "ABX9TyM82eOGLErx6umJxv7Qdtrv",
      "include_colab_link": true
    },
    "kernelspec": {
      "name": "python3",
      "display_name": "Python 3"
    }
  },
  "cells": [
    {
      "cell_type": "markdown",
      "metadata": {
        "id": "view-in-github",
        "colab_type": "text"
      },
      "source": [
        "<a href=\"https://colab.research.google.com/github/julianovale/simulacao_python/blob/master/0002_compartilhamento_bicicletas.ipynb\" target=\"_parent\"><img src=\"https://colab.research.google.com/assets/colab-badge.svg\" alt=\"Open In Colab\"/></a>"
      ]
    },
    {
      "cell_type": "markdown",
      "metadata": {
        "id": "9JjH2U6dqwY_",
        "colab_type": "text"
      },
      "source": [
        "# Simulando compartilhamento de bicicletas\n",
        "\n",
        "Caso:\n",
        "\n",
        "Há um bicicletário em cada universidade (Olin e Wellesley), cada um com capacidade para 12 biclicetas. Há, no total, 12 bicicletas compartilhadas entre as universidades.\n",
        "\n",
        "A cada 2 minutos, um estudante toma uma bicicleta em Olin e vai para Wellesley. A cada 3 minutos, um estudante toma uma bicileta em Wellesley e vai para Olin.\n",
        "\n",
        "Vamos simular os dois bicicletários e o movimento de bikes entre eles.\n"
      ]
    },
    {
      "cell_type": "markdown",
      "metadata": {
        "id": "zTvo5kiPqXQP",
        "colab_type": "text"
      },
      "source": [
        "## Instalando e importando as bibliotecas necessárias"
      ]
    },
    {
      "cell_type": "code",
      "metadata": {
        "id": "IIu16aaUlCe_",
        "colab_type": "code",
        "colab": {
          "base_uri": "https://localhost:8080/",
          "height": 34
        },
        "outputId": "e0d5ca0d-62c4-4cf3-d77b-01def590b13b"
      },
      "source": [
        "! pip install modsimpy"
      ],
      "execution_count": 180,
      "outputs": [
        {
          "output_type": "stream",
          "text": [
            "Requirement already satisfied: modsimpy in /usr/local/lib/python3.6/dist-packages (1.1.3)\n"
          ],
          "name": "stdout"
        }
      ]
    },
    {
      "cell_type": "code",
      "metadata": {
        "id": "bjb0MbAUo8le",
        "colab_type": "code",
        "colab": {
          "base_uri": "https://localhost:8080/",
          "height": 136
        },
        "outputId": "e6c2b7ff-f417-423b-b31d-00fbf4596054"
      },
      "source": [
        "! pip install pint"
      ],
      "execution_count": 181,
      "outputs": [
        {
          "output_type": "stream",
          "text": [
            "Requirement already satisfied: pint in /usr/local/lib/python3.6/dist-packages (0.14)\n",
            "Requirement already satisfied: packaging in /usr/local/lib/python3.6/dist-packages (from pint) (20.4)\n",
            "Requirement already satisfied: importlib-metadata; python_version < \"3.8\" in /usr/local/lib/python3.6/dist-packages (from pint) (1.6.1)\n",
            "Requirement already satisfied: setuptools in /usr/local/lib/python3.6/dist-packages (from pint) (47.3.1)\n",
            "Requirement already satisfied: pyparsing>=2.0.2 in /usr/local/lib/python3.6/dist-packages (from packaging->pint) (2.4.7)\n",
            "Requirement already satisfied: six in /usr/local/lib/python3.6/dist-packages (from packaging->pint) (1.12.0)\n",
            "Requirement already satisfied: zipp>=0.5 in /usr/local/lib/python3.6/dist-packages (from importlib-metadata; python_version < \"3.8\"->pint) (3.1.0)\n"
          ],
          "name": "stdout"
        }
      ]
    },
    {
      "cell_type": "code",
      "metadata": {
        "id": "IK_ZhSJ2LwkJ",
        "colab_type": "code",
        "colab": {}
      },
      "source": [
        "from modsim import *"
      ],
      "execution_count": 182,
      "outputs": []
    },
    {
      "cell_type": "markdown",
      "metadata": {
        "id": "EmPvoQh5qkl-",
        "colab_type": "text"
      },
      "source": [
        "## Estado inicial"
      ]
    },
    {
      "cell_type": "code",
      "metadata": {
        "id": "mveL2wiYotKq",
        "colab_type": "code",
        "colab": {}
      },
      "source": [
        "bikeshare = State(olin = 10, wellesley = 2) # State é da MODSIM Library"
      ],
      "execution_count": 183,
      "outputs": []
    },
    {
      "cell_type": "code",
      "metadata": {
        "id": "jYDs-2oxp29i",
        "colab_type": "code",
        "colab": {
          "base_uri": "https://localhost:8080/",
          "height": 34
        },
        "outputId": "44510859-1251-4efa-8421-25a1db8cab4c"
      },
      "source": [
        "bikeshare.olin"
      ],
      "execution_count": 184,
      "outputs": [
        {
          "output_type": "execute_result",
          "data": {
            "text/plain": [
              "10"
            ]
          },
          "metadata": {
            "tags": []
          },
          "execution_count": 184
        }
      ]
    },
    {
      "cell_type": "code",
      "metadata": {
        "id": "-n7cxf0eqELY",
        "colab_type": "code",
        "colab": {
          "base_uri": "https://localhost:8080/",
          "height": 34
        },
        "outputId": "b73a3e26-c73c-4ae6-9e5d-2e4ea95f9990"
      },
      "source": [
        "bikeshare.wellesley"
      ],
      "execution_count": 185,
      "outputs": [
        {
          "output_type": "execute_result",
          "data": {
            "text/plain": [
              "2"
            ]
          },
          "metadata": {
            "tags": []
          },
          "execution_count": 185
        }
      ]
    },
    {
      "cell_type": "code",
      "metadata": {
        "id": "GDG_tPWyqH4r",
        "colab_type": "code",
        "colab": {
          "base_uri": "https://localhost:8080/",
          "height": 111
        },
        "outputId": "6517b4b7-1d93-4c0e-d636-20e1f02117d7"
      },
      "source": [
        "bikeshare"
      ],
      "execution_count": 186,
      "outputs": [
        {
          "output_type": "execute_result",
          "data": {
            "text/html": [
              "<div>\n",
              "<style scoped>\n",
              "    .dataframe tbody tr th:only-of-type {\n",
              "        vertical-align: middle;\n",
              "    }\n",
              "\n",
              "    .dataframe tbody tr th {\n",
              "        vertical-align: top;\n",
              "    }\n",
              "\n",
              "    .dataframe thead th {\n",
              "        text-align: right;\n",
              "    }\n",
              "</style>\n",
              "<table border=\"1\" class=\"dataframe\">\n",
              "  <thead>\n",
              "    <tr style=\"text-align: right;\">\n",
              "      <th></th>\n",
              "      <th>values</th>\n",
              "    </tr>\n",
              "  </thead>\n",
              "  <tbody>\n",
              "    <tr>\n",
              "      <th>olin</th>\n",
              "      <td>10</td>\n",
              "    </tr>\n",
              "    <tr>\n",
              "      <th>wellesley</th>\n",
              "      <td>2</td>\n",
              "    </tr>\n",
              "  </tbody>\n",
              "</table>\n",
              "</div>"
            ],
            "text/plain": [
              "olin         10\n",
              "wellesley     2\n",
              "dtype: int64"
            ]
          },
          "metadata": {
            "tags": []
          },
          "execution_count": 186
        }
      ]
    },
    {
      "cell_type": "markdown",
      "metadata": {
        "id": "fNqSljlcrQCg",
        "colab_type": "text"
      },
      "source": [
        "## Assumindo novos valores"
      ]
    },
    {
      "cell_type": "code",
      "metadata": {
        "id": "zMJV_KYfrUu-",
        "colab_type": "code",
        "colab": {}
      },
      "source": [
        "bikeshare.olin = 9\n",
        "bikeshare.wellesley = 3"
      ],
      "execution_count": 187,
      "outputs": []
    },
    {
      "cell_type": "code",
      "metadata": {
        "id": "KeUIriSdrd3_",
        "colab_type": "code",
        "colab": {
          "base_uri": "https://localhost:8080/",
          "height": 111
        },
        "outputId": "1716b2cd-cab7-4024-f706-ed7ab490f462"
      },
      "source": [
        "bikeshare"
      ],
      "execution_count": 188,
      "outputs": [
        {
          "output_type": "execute_result",
          "data": {
            "text/html": [
              "<div>\n",
              "<style scoped>\n",
              "    .dataframe tbody tr th:only-of-type {\n",
              "        vertical-align: middle;\n",
              "    }\n",
              "\n",
              "    .dataframe tbody tr th {\n",
              "        vertical-align: top;\n",
              "    }\n",
              "\n",
              "    .dataframe thead th {\n",
              "        text-align: right;\n",
              "    }\n",
              "</style>\n",
              "<table border=\"1\" class=\"dataframe\">\n",
              "  <thead>\n",
              "    <tr style=\"text-align: right;\">\n",
              "      <th></th>\n",
              "      <th>values</th>\n",
              "    </tr>\n",
              "  </thead>\n",
              "  <tbody>\n",
              "    <tr>\n",
              "      <th>olin</th>\n",
              "      <td>9</td>\n",
              "    </tr>\n",
              "    <tr>\n",
              "      <th>wellesley</th>\n",
              "      <td>3</td>\n",
              "    </tr>\n",
              "  </tbody>\n",
              "</table>\n",
              "</div>"
            ],
            "text/plain": [
              "olin         9\n",
              "wellesley    3\n",
              "dtype: int64"
            ]
          },
          "metadata": {
            "tags": []
          },
          "execution_count": 188
        }
      ]
    },
    {
      "cell_type": "markdown",
      "metadata": {
        "id": "UBnhlaQGrlTu",
        "colab_type": "text"
      },
      "source": [
        "## Atualizando valores"
      ]
    },
    {
      "cell_type": "code",
      "metadata": {
        "id": "k5n8osnKrn2G",
        "colab_type": "code",
        "colab": {}
      },
      "source": [
        "bikeshare.olin -= 1\n",
        "bikeshare.wellesley += 1"
      ],
      "execution_count": 189,
      "outputs": []
    },
    {
      "cell_type": "code",
      "metadata": {
        "id": "tyV9VWhEryDn",
        "colab_type": "code",
        "colab": {
          "base_uri": "https://localhost:8080/",
          "height": 111
        },
        "outputId": "77e267e2-9ee3-48a8-dbb3-e31c20bd9b20"
      },
      "source": [
        "bikeshare"
      ],
      "execution_count": 190,
      "outputs": [
        {
          "output_type": "execute_result",
          "data": {
            "text/html": [
              "<div>\n",
              "<style scoped>\n",
              "    .dataframe tbody tr th:only-of-type {\n",
              "        vertical-align: middle;\n",
              "    }\n",
              "\n",
              "    .dataframe tbody tr th {\n",
              "        vertical-align: top;\n",
              "    }\n",
              "\n",
              "    .dataframe thead th {\n",
              "        text-align: right;\n",
              "    }\n",
              "</style>\n",
              "<table border=\"1\" class=\"dataframe\">\n",
              "  <thead>\n",
              "    <tr style=\"text-align: right;\">\n",
              "      <th></th>\n",
              "      <th>values</th>\n",
              "    </tr>\n",
              "  </thead>\n",
              "  <tbody>\n",
              "    <tr>\n",
              "      <th>olin</th>\n",
              "      <td>8</td>\n",
              "    </tr>\n",
              "    <tr>\n",
              "      <th>wellesley</th>\n",
              "      <td>4</td>\n",
              "    </tr>\n",
              "  </tbody>\n",
              "</table>\n",
              "</div>"
            ],
            "text/plain": [
              "olin         8\n",
              "wellesley    4\n",
              "dtype: int64"
            ]
          },
          "metadata": {
            "tags": []
          },
          "execution_count": 190
        }
      ]
    },
    {
      "cell_type": "markdown",
      "metadata": {
        "id": "SNO2DwBbr8wo",
        "colab_type": "text"
      },
      "source": [
        "## Criando função para atualizar valores"
      ]
    },
    {
      "cell_type": "code",
      "metadata": {
        "id": "r63IIJSosBd1",
        "colab_type": "code",
        "colab": {}
      },
      "source": [
        "def bike_to_wellesley():\n",
        "  bikeshare.olin -= 1\n",
        "  bikeshare.wellesley += 1"
      ],
      "execution_count": 191,
      "outputs": []
    },
    {
      "cell_type": "code",
      "metadata": {
        "id": "35YjgP6dsMM2",
        "colab_type": "code",
        "colab": {}
      },
      "source": [
        "def bike_to_olin():\n",
        "  bikeshare.wellesley -= 1\n",
        "  bikeshare.olin += 1"
      ],
      "execution_count": 192,
      "outputs": []
    },
    {
      "cell_type": "code",
      "metadata": {
        "id": "_p6Y1rxrsbFt",
        "colab_type": "code",
        "colab": {
          "base_uri": "https://localhost:8080/",
          "height": 111
        },
        "outputId": "c1360f21-667f-459d-b813-97f2d21cdd6f"
      },
      "source": [
        "bike_to_wellesley()\n",
        "bikeshare"
      ],
      "execution_count": 193,
      "outputs": [
        {
          "output_type": "execute_result",
          "data": {
            "text/html": [
              "<div>\n",
              "<style scoped>\n",
              "    .dataframe tbody tr th:only-of-type {\n",
              "        vertical-align: middle;\n",
              "    }\n",
              "\n",
              "    .dataframe tbody tr th {\n",
              "        vertical-align: top;\n",
              "    }\n",
              "\n",
              "    .dataframe thead th {\n",
              "        text-align: right;\n",
              "    }\n",
              "</style>\n",
              "<table border=\"1\" class=\"dataframe\">\n",
              "  <thead>\n",
              "    <tr style=\"text-align: right;\">\n",
              "      <th></th>\n",
              "      <th>values</th>\n",
              "    </tr>\n",
              "  </thead>\n",
              "  <tbody>\n",
              "    <tr>\n",
              "      <th>olin</th>\n",
              "      <td>7</td>\n",
              "    </tr>\n",
              "    <tr>\n",
              "      <th>wellesley</th>\n",
              "      <td>5</td>\n",
              "    </tr>\n",
              "  </tbody>\n",
              "</table>\n",
              "</div>"
            ],
            "text/plain": [
              "olin         7\n",
              "wellesley    5\n",
              "dtype: int64"
            ]
          },
          "metadata": {
            "tags": []
          },
          "execution_count": 193
        }
      ]
    },
    {
      "cell_type": "code",
      "metadata": {
        "id": "AmWpzMw1stG9",
        "colab_type": "code",
        "colab": {
          "base_uri": "https://localhost:8080/",
          "height": 111
        },
        "outputId": "58c21077-fc0c-4cd3-c2ea-0156666bfa3d"
      },
      "source": [
        "bike_to_olin()\n",
        "bikeshare"
      ],
      "execution_count": 194,
      "outputs": [
        {
          "output_type": "execute_result",
          "data": {
            "text/html": [
              "<div>\n",
              "<style scoped>\n",
              "    .dataframe tbody tr th:only-of-type {\n",
              "        vertical-align: middle;\n",
              "    }\n",
              "\n",
              "    .dataframe tbody tr th {\n",
              "        vertical-align: top;\n",
              "    }\n",
              "\n",
              "    .dataframe thead th {\n",
              "        text-align: right;\n",
              "    }\n",
              "</style>\n",
              "<table border=\"1\" class=\"dataframe\">\n",
              "  <thead>\n",
              "    <tr style=\"text-align: right;\">\n",
              "      <th></th>\n",
              "      <th>values</th>\n",
              "    </tr>\n",
              "  </thead>\n",
              "  <tbody>\n",
              "    <tr>\n",
              "      <th>olin</th>\n",
              "      <td>8</td>\n",
              "    </tr>\n",
              "    <tr>\n",
              "      <th>wellesley</th>\n",
              "      <td>4</td>\n",
              "    </tr>\n",
              "  </tbody>\n",
              "</table>\n",
              "</div>"
            ],
            "text/plain": [
              "olin         8\n",
              "wellesley    4\n",
              "dtype: int64"
            ]
          },
          "metadata": {
            "tags": []
          },
          "execution_count": 194
        }
      ]
    },
    {
      "cell_type": "markdown",
      "metadata": {
        "id": "4uSZKo_XtOnl",
        "colab_type": "text"
      },
      "source": [
        "## Imprimindo valores"
      ]
    },
    {
      "cell_type": "code",
      "metadata": {
        "id": "u184ZIjEtSPG",
        "colab_type": "code",
        "colab": {
          "base_uri": "https://localhost:8080/",
          "height": 34
        },
        "outputId": "61db4cfd-c2cf-4d85-bb2d-86e91b2448ae"
      },
      "source": [
        "\n",
        "bikeshare.wellesley\n",
        "bikeshare.olin\n",
        "# se eu rodar esses comandos os dois serão rodados, mas será exibido só o valor do último, então, usando o print(), isso se resolve  "
      ],
      "execution_count": 195,
      "outputs": [
        {
          "output_type": "execute_result",
          "data": {
            "text/plain": [
              "8"
            ]
          },
          "metadata": {
            "tags": []
          },
          "execution_count": 195
        }
      ]
    },
    {
      "cell_type": "code",
      "metadata": {
        "id": "bRU234mItn-o",
        "colab_type": "code",
        "colab": {
          "base_uri": "https://localhost:8080/",
          "height": 51
        },
        "outputId": "bd8cedca-9331-401f-92cf-fd5f4a1e4018"
      },
      "source": [
        "print(bikeshare.wellesley)\n",
        "print(bikeshare.olin)"
      ],
      "execution_count": 196,
      "outputs": [
        {
          "output_type": "stream",
          "text": [
            "4\n",
            "8\n"
          ],
          "name": "stdout"
        }
      ]
    },
    {
      "cell_type": "code",
      "metadata": {
        "id": "6MzvqjtMtyV2",
        "colab_type": "code",
        "colab": {
          "base_uri": "https://localhost:8080/",
          "height": 34
        },
        "outputId": "7c022827-0da9-4523-ed85-b7ef64d5b0e8"
      },
      "source": [
        "print(bikeshare.wellesley, bikeshare.olin)"
      ],
      "execution_count": 197,
      "outputs": [
        {
          "output_type": "stream",
          "text": [
            "4 8\n"
          ],
          "name": "stdout"
        }
      ]
    },
    {
      "cell_type": "code",
      "metadata": {
        "id": "E_2ies9BuPVG",
        "colab_type": "code",
        "colab": {}
      },
      "source": [
        "def bike_to_wellesley():\n",
        "  print('movendo uma bike para Wellesley')\n",
        "  bikeshare.olin -= 1\n",
        "  bikeshare.wellesley += 1"
      ],
      "execution_count": 198,
      "outputs": []
    },
    {
      "cell_type": "code",
      "metadata": {
        "id": "mjJO36UauPvv",
        "colab_type": "code",
        "colab": {}
      },
      "source": [
        "def bike_to_olin():\n",
        "  print('movendo uma bike para Olin')\n",
        "  bikeshare.wellesley -= 1\n",
        "  bikeshare.olin += 1"
      ],
      "execution_count": 199,
      "outputs": []
    },
    {
      "cell_type": "code",
      "metadata": {
        "id": "oGRlhmEWugKm",
        "colab_type": "code",
        "colab": {
          "base_uri": "https://localhost:8080/",
          "height": 34
        },
        "outputId": "cf4f813c-30a6-4309-88a7-8138c748fd9b"
      },
      "source": [
        "bike_to_olin()"
      ],
      "execution_count": 200,
      "outputs": [
        {
          "output_type": "stream",
          "text": [
            "movendo uma bike para Olin\n"
          ],
          "name": "stdout"
        }
      ]
    },
    {
      "cell_type": "code",
      "metadata": {
        "id": "x4jN3wYcukHN",
        "colab_type": "code",
        "colab": {
          "base_uri": "https://localhost:8080/",
          "height": 34
        },
        "outputId": "6988f96d-c28b-41af-effa-749302cea5bb"
      },
      "source": [
        "bike_to_wellesley()"
      ],
      "execution_count": 201,
      "outputs": [
        {
          "output_type": "stream",
          "text": [
            "movendo uma bike para Wellesley\n"
          ],
          "name": "stdout"
        }
      ]
    },
    {
      "cell_type": "code",
      "metadata": {
        "id": "wxlRM609unud",
        "colab_type": "code",
        "colab": {
          "base_uri": "https://localhost:8080/",
          "height": 111
        },
        "outputId": "3691d261-bc80-4dcb-fd3b-a0362203a3b0"
      },
      "source": [
        "bikeshare"
      ],
      "execution_count": 202,
      "outputs": [
        {
          "output_type": "execute_result",
          "data": {
            "text/html": [
              "<div>\n",
              "<style scoped>\n",
              "    .dataframe tbody tr th:only-of-type {\n",
              "        vertical-align: middle;\n",
              "    }\n",
              "\n",
              "    .dataframe tbody tr th {\n",
              "        vertical-align: top;\n",
              "    }\n",
              "\n",
              "    .dataframe thead th {\n",
              "        text-align: right;\n",
              "    }\n",
              "</style>\n",
              "<table border=\"1\" class=\"dataframe\">\n",
              "  <thead>\n",
              "    <tr style=\"text-align: right;\">\n",
              "      <th></th>\n",
              "      <th>values</th>\n",
              "    </tr>\n",
              "  </thead>\n",
              "  <tbody>\n",
              "    <tr>\n",
              "      <th>olin</th>\n",
              "      <td>8</td>\n",
              "    </tr>\n",
              "    <tr>\n",
              "      <th>wellesley</th>\n",
              "      <td>4</td>\n",
              "    </tr>\n",
              "  </tbody>\n",
              "</table>\n",
              "</div>"
            ],
            "text/plain": [
              "olin         8\n",
              "wellesley    4\n",
              "dtype: int64"
            ]
          },
          "metadata": {
            "tags": []
          },
          "execution_count": 202
        }
      ]
    },
    {
      "cell_type": "markdown",
      "metadata": {
        "id": "pF-6o0TJOyKc",
        "colab_type": "text"
      },
      "source": [
        "## If"
      ]
    },
    {
      "cell_type": "code",
      "metadata": {
        "id": "JoB76cpdMRQq",
        "colab_type": "code",
        "colab": {
          "base_uri": "https://localhost:8080/",
          "height": 34
        },
        "outputId": "28a106b1-35c0-4273-f1e3-8c973ebc8ca4"
      },
      "source": [
        "flip(0.7) # MODSIM library: gera aleatoriamente \"True\" ou \"False\", neste caso: (flip) com 70% de chance de \"True\"; ou, (flop) para 30% de \"False\".\n"
      ],
      "execution_count": 203,
      "outputs": [
        {
          "output_type": "execute_result",
          "data": {
            "text/plain": [
              "True"
            ]
          },
          "metadata": {
            "tags": []
          },
          "execution_count": 203
        }
      ]
    },
    {
      "cell_type": "code",
      "metadata": {
        "id": "6AMsef4qO-Tu",
        "colab_type": "code",
        "colab": {
          "base_uri": "https://localhost:8080/",
          "height": 34
        },
        "outputId": "43aa6ac0-d085-4dbe-dc91-dabedf801386"
      },
      "source": [
        "# Um exemplo de uso\n",
        "if flip(0.5):\n",
        "  print(\"cara\")\n",
        "else:\n",
        "  print(\"coroa\")"
      ],
      "execution_count": 204,
      "outputs": [
        {
          "output_type": "stream",
          "text": [
            "coroa\n"
          ],
          "name": "stdout"
        }
      ]
    },
    {
      "cell_type": "code",
      "metadata": {
        "id": "kgI-IKnCPQfW",
        "colab_type": "code",
        "colab": {}
      },
      "source": [
        ""
      ],
      "execution_count": 204,
      "outputs": []
    },
    {
      "cell_type": "markdown",
      "metadata": {
        "id": "iJ4Zj1bFPe4G",
        "colab_type": "text"
      },
      "source": [
        "Veja:\n",
        "\n",
        "Se um estudante sai de Olin para Wellesley a cada 2 minutos, a probabilidade de em um minuto particular partir um estudante nesse sentido é de 0.5; e sai um estudante de Wellesley para Olin a cada 3 minutos, então a probabilidade num dado minuto de sair um estudante é de 0.33. Vamos modelar isso:"
      ]
    },
    {
      "cell_type": "code",
      "metadata": {
        "id": "Tt6QwPtkQAx1",
        "colab_type": "code",
        "colab": {}
      },
      "source": [
        "if flip(0.5):\n",
        "  bike_to_wellesley()"
      ],
      "execution_count": 205,
      "outputs": []
    },
    {
      "cell_type": "code",
      "metadata": {
        "id": "fZepgy7nQOW9",
        "colab_type": "code",
        "colab": {}
      },
      "source": [
        "if flip(0.33):\n",
        "  bike_to_olin()"
      ],
      "execution_count": 206,
      "outputs": []
    },
    {
      "cell_type": "markdown",
      "metadata": {
        "id": "lTiSZwKAQbXV",
        "colab_type": "text"
      },
      "source": [
        "Vamos modelar o que pode ocorrer num minuto particular (um passo do modelo):"
      ]
    },
    {
      "cell_type": "code",
      "metadata": {
        "id": "DAInjLMqQihH",
        "colab_type": "code",
        "colab": {}
      },
      "source": [
        "def step():\n",
        "  if flip(0.5):\n",
        "    bike_to_wellesley()\n",
        "  if flip(0.33):\n",
        "    bike_to_olin()"
      ],
      "execution_count": 207,
      "outputs": []
    },
    {
      "cell_type": "code",
      "metadata": {
        "id": "Y0ECdz4bQxoW",
        "colab_type": "code",
        "colab": {
          "base_uri": "https://localhost:8080/",
          "height": 34
        },
        "outputId": "a6556f04-ea44-4db7-a342-3f8d09ad7966"
      },
      "source": [
        "step()"
      ],
      "execution_count": 208,
      "outputs": [
        {
          "output_type": "stream",
          "text": [
            "movendo uma bike para Wellesley\n"
          ],
          "name": "stdout"
        }
      ]
    },
    {
      "cell_type": "code",
      "metadata": {
        "id": "GEGmRxReRcTg",
        "colab_type": "code",
        "colab": {
          "base_uri": "https://localhost:8080/",
          "height": 111
        },
        "outputId": "c9fdaab6-f57b-47ca-8640-d54283d3f342"
      },
      "source": [
        "bikeshare"
      ],
      "execution_count": 209,
      "outputs": [
        {
          "output_type": "execute_result",
          "data": {
            "text/html": [
              "<div>\n",
              "<style scoped>\n",
              "    .dataframe tbody tr th:only-of-type {\n",
              "        vertical-align: middle;\n",
              "    }\n",
              "\n",
              "    .dataframe tbody tr th {\n",
              "        vertical-align: top;\n",
              "    }\n",
              "\n",
              "    .dataframe thead th {\n",
              "        text-align: right;\n",
              "    }\n",
              "</style>\n",
              "<table border=\"1\" class=\"dataframe\">\n",
              "  <thead>\n",
              "    <tr style=\"text-align: right;\">\n",
              "      <th></th>\n",
              "      <th>values</th>\n",
              "    </tr>\n",
              "  </thead>\n",
              "  <tbody>\n",
              "    <tr>\n",
              "      <th>olin</th>\n",
              "      <td>7</td>\n",
              "    </tr>\n",
              "    <tr>\n",
              "      <th>wellesley</th>\n",
              "      <td>5</td>\n",
              "    </tr>\n",
              "  </tbody>\n",
              "</table>\n",
              "</div>"
            ],
            "text/plain": [
              "olin         7\n",
              "wellesley    5\n",
              "dtype: int64"
            ]
          },
          "metadata": {
            "tags": []
          },
          "execution_count": 209
        }
      ]
    },
    {
      "cell_type": "markdown",
      "metadata": {
        "id": "OrckVHjETIZI",
        "colab_type": "text"
      },
      "source": [
        "## Parâmetros e argumentos"
      ]
    },
    {
      "cell_type": "code",
      "metadata": {
        "id": "_zbWQOiKTLiN",
        "colab_type": "code",
        "colab": {}
      },
      "source": [
        "def step(p1, p2): # p1 e p2 são parâmetros da função\n",
        "  if flip(p1):\n",
        "    bike_to_wellesley()\n",
        "  \n",
        "  if flip(p2):\n",
        "    bike_to_olin()"
      ],
      "execution_count": 210,
      "outputs": []
    },
    {
      "cell_type": "code",
      "metadata": {
        "id": "gM_vKdqxTboe",
        "colab_type": "code",
        "colab": {
          "base_uri": "https://localhost:8080/",
          "height": 51
        },
        "outputId": "79d4262b-c259-4628-d3f2-97f9a14c4541"
      },
      "source": [
        "step(0.5, 0.33) # 0.5 e 0.33 são argumentos"
      ],
      "execution_count": 211,
      "outputs": [
        {
          "output_type": "stream",
          "text": [
            "movendo uma bike para Wellesley\n",
            "movendo uma bike para Olin\n"
          ],
          "name": "stdout"
        }
      ]
    },
    {
      "cell_type": "markdown",
      "metadata": {
        "id": "w53DH2MvUBvk",
        "colab_type": "text"
      },
      "source": [
        "## For"
      ]
    },
    {
      "cell_type": "code",
      "metadata": {
        "id": "0O6UuFWgUD_0",
        "colab_type": "code",
        "colab": {
          "base_uri": "https://localhost:8080/",
          "height": 85
        },
        "outputId": "befa8d92-ef4b-434b-940f-b4cf51a7f941"
      },
      "source": [
        "for i in range(4):\n",
        "  bike_to_wellesley()"
      ],
      "execution_count": 212,
      "outputs": [
        {
          "output_type": "stream",
          "text": [
            "movendo uma bike para Wellesley\n",
            "movendo uma bike para Wellesley\n",
            "movendo uma bike para Wellesley\n",
            "movendo uma bike para Wellesley\n"
          ],
          "name": "stdout"
        }
      ]
    },
    {
      "cell_type": "markdown",
      "metadata": {
        "id": "kCVVNUtACWvx",
        "colab_type": "text"
      },
      "source": [
        "## Time series"
      ]
    },
    {
      "cell_type": "code",
      "metadata": {
        "id": "rlSq2IckCarL",
        "colab_type": "code",
        "colab": {}
      },
      "source": [
        "results = TimeSeries() # TimeSeries é da biblioteca MODSIM"
      ],
      "execution_count": 213,
      "outputs": []
    },
    {
      "cell_type": "code",
      "metadata": {
        "id": "eatLJ2NgCrqi",
        "colab_type": "code",
        "colab": {}
      },
      "source": [
        "results[0] = bikeshare.olin"
      ],
      "execution_count": 214,
      "outputs": []
    },
    {
      "cell_type": "code",
      "metadata": {
        "id": "sppEY57KC1J8",
        "colab_type": "code",
        "colab": {
          "base_uri": "https://localhost:8080/",
          "height": 170
        },
        "outputId": "1b9d7ba6-841b-42e7-dea7-729d2e1726e3"
      },
      "source": [
        "for i in range(10):\n",
        "  step(0.3, 0.2)\n",
        "  results[i] = bikeshare.olin"
      ],
      "execution_count": 215,
      "outputs": [
        {
          "output_type": "stream",
          "text": [
            "movendo uma bike para Wellesley\n",
            "movendo uma bike para Wellesley\n",
            "movendo uma bike para Wellesley\n",
            "movendo uma bike para Olin\n",
            "movendo uma bike para Wellesley\n",
            "movendo uma bike para Olin\n",
            "movendo uma bike para Wellesley\n",
            "movendo uma bike para Wellesley\n",
            "movendo uma bike para Wellesley\n"
          ],
          "name": "stdout"
        }
      ]
    },
    {
      "cell_type": "code",
      "metadata": {
        "id": "Ampg1_GoDE3s",
        "colab_type": "code",
        "colab": {
          "base_uri": "https://localhost:8080/",
          "height": 359
        },
        "outputId": "c808dfa2-c9e2-4b06-bb71-31fb65471003"
      },
      "source": [
        "results"
      ],
      "execution_count": 216,
      "outputs": [
        {
          "output_type": "execute_result",
          "data": {
            "text/html": [
              "<div>\n",
              "<style scoped>\n",
              "    .dataframe tbody tr th:only-of-type {\n",
              "        vertical-align: middle;\n",
              "    }\n",
              "\n",
              "    .dataframe tbody tr th {\n",
              "        vertical-align: top;\n",
              "    }\n",
              "\n",
              "    .dataframe thead th {\n",
              "        text-align: right;\n",
              "    }\n",
              "</style>\n",
              "<table border=\"1\" class=\"dataframe\">\n",
              "  <thead>\n",
              "    <tr style=\"text-align: right;\">\n",
              "      <th></th>\n",
              "      <th>values</th>\n",
              "    </tr>\n",
              "  </thead>\n",
              "  <tbody>\n",
              "    <tr>\n",
              "      <th>0</th>\n",
              "      <td>3</td>\n",
              "    </tr>\n",
              "    <tr>\n",
              "      <th>1</th>\n",
              "      <td>2</td>\n",
              "    </tr>\n",
              "    <tr>\n",
              "      <th>2</th>\n",
              "      <td>1</td>\n",
              "    </tr>\n",
              "    <tr>\n",
              "      <th>3</th>\n",
              "      <td>1</td>\n",
              "    </tr>\n",
              "    <tr>\n",
              "      <th>4</th>\n",
              "      <td>0</td>\n",
              "    </tr>\n",
              "    <tr>\n",
              "      <th>5</th>\n",
              "      <td>1</td>\n",
              "    </tr>\n",
              "    <tr>\n",
              "      <th>6</th>\n",
              "      <td>0</td>\n",
              "    </tr>\n",
              "    <tr>\n",
              "      <th>7</th>\n",
              "      <td>-1</td>\n",
              "    </tr>\n",
              "    <tr>\n",
              "      <th>8</th>\n",
              "      <td>-2</td>\n",
              "    </tr>\n",
              "    <tr>\n",
              "      <th>9</th>\n",
              "      <td>-2</td>\n",
              "    </tr>\n",
              "  </tbody>\n",
              "</table>\n",
              "</div>"
            ],
            "text/plain": [
              "0    3\n",
              "1    2\n",
              "2    1\n",
              "3    1\n",
              "4    0\n",
              "5    1\n",
              "6    0\n",
              "7   -1\n",
              "8   -2\n",
              "9   -2\n",
              "dtype: int64"
            ]
          },
          "metadata": {
            "tags": []
          },
          "execution_count": 216
        }
      ]
    },
    {
      "cell_type": "code",
      "metadata": {
        "id": "BQ0RzyzlDV86",
        "colab_type": "code",
        "colab": {
          "base_uri": "https://localhost:8080/",
          "height": 34
        },
        "outputId": "862aa981-8219-4f17-b0d7-78d896db8b44"
      },
      "source": [
        "results.mean()"
      ],
      "execution_count": 217,
      "outputs": [
        {
          "output_type": "execute_result",
          "data": {
            "text/plain": [
              "0.3"
            ]
          },
          "metadata": {
            "tags": []
          },
          "execution_count": 217
        }
      ]
    },
    {
      "cell_type": "markdown",
      "metadata": {
        "id": "uWLOPc5HDw4u",
        "colab_type": "text"
      },
      "source": [
        "## Plotting"
      ]
    },
    {
      "cell_type": "code",
      "metadata": {
        "id": "u3g63vuFD4Pk",
        "colab_type": "code",
        "colab": {
          "base_uri": "https://localhost:8080/",
          "height": 288
        },
        "outputId": "0bf38f02-8e67-4b0d-e171-77ce357d534e"
      },
      "source": [
        "plot(results, label = \"Olin\")\n",
        "decorate(title = \"Olin - Wellesley bikeshare\",\n",
        "         xlabel = \"Time step (min)\",\n",
        "         ylabel = \"Number of bikes\")"
      ],
      "execution_count": 218,
      "outputs": [
        {
          "output_type": "display_data",
          "data": {
            "image/png": "[encoded data removed]",
            "text/plain": [
              "<Figure size 432x288 with 1 Axes>"
            ]
          },
          "metadata": {
            "tags": []
          }
        }
      ]
    },
    {
      "cell_type": "markdown",
      "metadata": {
        "id": "xiRePZvlK_Ds",
        "colab_type": "text"
      },
      "source": [
        "## Modelo iterativo"
      ]
    },
    {
      "cell_type": "code",
      "metadata": {
        "id": "NlqbHi0hLByN",
        "colab_type": "code",
        "colab": {}
      },
      "source": [
        "def bike_to_wellesley(state):\n",
        "  print('movendo uma bike para Wellesley')\n",
        "  state.olin -= 1\n",
        "  state.wellesley += 1"
      ],
      "execution_count": 219,
      "outputs": []
    },
    {
      "cell_type": "code",
      "metadata": {
        "id": "IoPzOWmxLcOZ",
        "colab_type": "code",
        "colab": {}
      },
      "source": [
        "def bike_to_olin(state):\n",
        "  print('movendo uma bike para Olin')\n",
        "  state.wellesley -= 1\n",
        "  state.olin += 1"
      ],
      "execution_count": 220,
      "outputs": []
    },
    {
      "cell_type": "code",
      "metadata": {
        "id": "NhUVbVwpL0HZ",
        "colab_type": "code",
        "colab": {
          "base_uri": "https://localhost:8080/",
          "height": 34
        },
        "outputId": "e95987f7-69a2-4673-bca1-14f96440dedc"
      },
      "source": [
        "bike_to_wellesley(bikeshare)"
      ],
      "execution_count": 221,
      "outputs": [
        {
          "output_type": "stream",
          "text": [
            "movendo uma bike para Wellesley\n"
          ],
          "name": "stdout"
        }
      ]
    },
    {
      "cell_type": "code",
      "metadata": {
        "id": "GltbrxQ4L65t",
        "colab_type": "code",
        "colab": {
          "base_uri": "https://localhost:8080/",
          "height": 111
        },
        "outputId": "7a01f9ca-c41c-469f-ad92-aa66e068a6fd"
      },
      "source": [
        "bikeshare"
      ],
      "execution_count": 222,
      "outputs": [
        {
          "output_type": "execute_result",
          "data": {
            "text/html": [
              "<div>\n",
              "<style scoped>\n",
              "    .dataframe tbody tr th:only-of-type {\n",
              "        vertical-align: middle;\n",
              "    }\n",
              "\n",
              "    .dataframe tbody tr th {\n",
              "        vertical-align: top;\n",
              "    }\n",
              "\n",
              "    .dataframe thead th {\n",
              "        text-align: right;\n",
              "    }\n",
              "</style>\n",
              "<table border=\"1\" class=\"dataframe\">\n",
              "  <thead>\n",
              "    <tr style=\"text-align: right;\">\n",
              "      <th></th>\n",
              "      <th>values</th>\n",
              "    </tr>\n",
              "  </thead>\n",
              "  <tbody>\n",
              "    <tr>\n",
              "      <th>olin</th>\n",
              "      <td>-3</td>\n",
              "    </tr>\n",
              "    <tr>\n",
              "      <th>wellesley</th>\n",
              "      <td>15</td>\n",
              "    </tr>\n",
              "  </tbody>\n",
              "</table>\n",
              "</div>"
            ],
            "text/plain": [
              "olin         -3\n",
              "wellesley    15\n",
              "dtype: int64"
            ]
          },
          "metadata": {
            "tags": []
          },
          "execution_count": 222
        }
      ]
    },
    {
      "cell_type": "code",
      "metadata": {
        "id": "jCRB4jYhMCMh",
        "colab_type": "code",
        "colab": {
          "base_uri": "https://localhost:8080/",
          "height": 34
        },
        "outputId": "0e07b274-50c0-46e2-e1e0-63f490509fbc"
      },
      "source": [
        "bike_to_olin(bikeshare)"
      ],
      "execution_count": 223,
      "outputs": [
        {
          "output_type": "stream",
          "text": [
            "movendo uma bike para Olin\n"
          ],
          "name": "stdout"
        }
      ]
    },
    {
      "cell_type": "code",
      "metadata": {
        "id": "7qk40jYxMG5S",
        "colab_type": "code",
        "colab": {
          "base_uri": "https://localhost:8080/",
          "height": 111
        },
        "outputId": "52a98738-29ba-4c32-dad4-db9378430098"
      },
      "source": [
        "bikeshare"
      ],
      "execution_count": 224,
      "outputs": [
        {
          "output_type": "execute_result",
          "data": {
            "text/html": [
              "<div>\n",
              "<style scoped>\n",
              "    .dataframe tbody tr th:only-of-type {\n",
              "        vertical-align: middle;\n",
              "    }\n",
              "\n",
              "    .dataframe tbody tr th {\n",
              "        vertical-align: top;\n",
              "    }\n",
              "\n",
              "    .dataframe thead th {\n",
              "        text-align: right;\n",
              "    }\n",
              "</style>\n",
              "<table border=\"1\" class=\"dataframe\">\n",
              "  <thead>\n",
              "    <tr style=\"text-align: right;\">\n",
              "      <th></th>\n",
              "      <th>values</th>\n",
              "    </tr>\n",
              "  </thead>\n",
              "  <tbody>\n",
              "    <tr>\n",
              "      <th>olin</th>\n",
              "      <td>-2</td>\n",
              "    </tr>\n",
              "    <tr>\n",
              "      <th>wellesley</th>\n",
              "      <td>14</td>\n",
              "    </tr>\n",
              "  </tbody>\n",
              "</table>\n",
              "</div>"
            ],
            "text/plain": [
              "olin         -2\n",
              "wellesley    14\n",
              "dtype: int64"
            ]
          },
          "metadata": {
            "tags": []
          },
          "execution_count": 224
        }
      ]
    },
    {
      "cell_type": "code",
      "metadata": {
        "id": "0XwlrFlwMh_5",
        "colab_type": "code",
        "colab": {}
      },
      "source": [
        "bikeshare1 = State(olin = 10, wellesley = 2)\n",
        "bikeshare2 = State(olin = 2, wellesley = 10)\n",
        "bikeshare3 = State(olin = 6, wellesley = 6)"
      ],
      "execution_count": 225,
      "outputs": []
    },
    {
      "cell_type": "code",
      "metadata": {
        "id": "wLKSphS9MR9w",
        "colab_type": "code",
        "colab": {
          "base_uri": "https://localhost:8080/",
          "height": 68
        },
        "outputId": "d6036b97-a479-4764-ae48-ce849d3d0a87"
      },
      "source": [
        "bike_to_wellesley(bikeshare1)\n",
        "bike_to_olin(bikeshare2)\n",
        "bike_to_wellesley(bikeshare3)"
      ],
      "execution_count": 226,
      "outputs": [
        {
          "output_type": "stream",
          "text": [
            "movendo uma bike para Wellesley\n",
            "movendo uma bike para Olin\n",
            "movendo uma bike para Wellesley\n"
          ],
          "name": "stdout"
        }
      ]
    },
    {
      "cell_type": "code",
      "metadata": {
        "id": "cjQC8zlvMzpD",
        "colab_type": "code",
        "colab": {
          "base_uri": "https://localhost:8080/",
          "height": 221
        },
        "outputId": "389d91bd-5933-4928-b411-e767f15f21f3"
      },
      "source": [
        "print(bikeshare)\n",
        "print(bikeshare1)\n",
        "print(bikeshare2)\n",
        "print(bikeshare3)"
      ],
      "execution_count": 227,
      "outputs": [
        {
          "output_type": "stream",
          "text": [
            "olin         -2\n",
            "wellesley    14\n",
            "dtype: int64\n",
            "olin         9\n",
            "wellesley    3\n",
            "dtype: int64\n",
            "olin         3\n",
            "wellesley    9\n",
            "dtype: int64\n",
            "olin         5\n",
            "wellesley    7\n",
            "dtype: int64\n"
          ],
          "name": "stdout"
        }
      ]
    },
    {
      "cell_type": "markdown",
      "metadata": {
        "id": "E1y1xxRWYl9y",
        "colab_type": "text"
      },
      "source": [
        "## Evitando número negativo de bikes"
      ]
    },
    {
      "cell_type": "code",
      "metadata": {
        "id": "vJF4JGdEaDL7",
        "colab_type": "code",
        "colab": {}
      },
      "source": [
        "bikeshare = State(olin = 10, wellesley = 2)"
      ],
      "execution_count": 232,
      "outputs": []
    },
    {
      "cell_type": "code",
      "metadata": {
        "id": "tZtjmm_sXV5C",
        "colab_type": "code",
        "colab": {}
      },
      "source": [
        "def bike_to_wellesley(state):\n",
        "  if state.olin == 0:\n",
        "    return\n",
        "  print('movendo uma bike para Wellesley')\n",
        "  state.olin -= 1\n",
        "  state.wellesley += 1\n",
        "\n",
        "def bike_to_olin(state):\n",
        "  if state.wellesley == 0:\n",
        "    return\n",
        "  print('movendo uma bike para Olin')\n",
        "  state.wellesley -= 1\n",
        "  state.olin += 1"
      ],
      "execution_count": 233,
      "outputs": []
    },
    {
      "cell_type": "code",
      "metadata": {
        "id": "8f_llCIIZCjP",
        "colab_type": "code",
        "colab": {
          "base_uri": "https://localhost:8080/",
          "height": 111
        },
        "outputId": "4e08716f-b038-4728-b73a-c9c761b39a77"
      },
      "source": [
        "bikeshare"
      ],
      "execution_count": 234,
      "outputs": [
        {
          "output_type": "execute_result",
          "data": {
            "text/html": [
              "<div>\n",
              "<style scoped>\n",
              "    .dataframe tbody tr th:only-of-type {\n",
              "        vertical-align: middle;\n",
              "    }\n",
              "\n",
              "    .dataframe tbody tr th {\n",
              "        vertical-align: top;\n",
              "    }\n",
              "\n",
              "    .dataframe thead th {\n",
              "        text-align: right;\n",
              "    }\n",
              "</style>\n",
              "<table border=\"1\" class=\"dataframe\">\n",
              "  <thead>\n",
              "    <tr style=\"text-align: right;\">\n",
              "      <th></th>\n",
              "      <th>values</th>\n",
              "    </tr>\n",
              "  </thead>\n",
              "  <tbody>\n",
              "    <tr>\n",
              "      <th>olin</th>\n",
              "      <td>10</td>\n",
              "    </tr>\n",
              "    <tr>\n",
              "      <th>wellesley</th>\n",
              "      <td>2</td>\n",
              "    </tr>\n",
              "  </tbody>\n",
              "</table>\n",
              "</div>"
            ],
            "text/plain": [
              "olin         10\n",
              "wellesley     2\n",
              "dtype: int64"
            ]
          },
          "metadata": {
            "tags": []
          },
          "execution_count": 234
        }
      ]
    },
    {
      "cell_type": "code",
      "metadata": {
        "id": "y4aLmvvnZPsx",
        "colab_type": "code",
        "colab": {
          "base_uri": "https://localhost:8080/",
          "height": 145
        },
        "outputId": "01407a36-24c1-415b-f910-2cdf4db16f69"
      },
      "source": [
        "bike_to_olin(bikeshare)\n",
        "bike_to_olin(bikeshare)\n",
        "bike_to_olin(bikeshare)\n",
        "bike_to_olin(bikeshare)\n",
        "bike_to_olin(bikeshare)\n",
        "bike_to_olin(bikeshare)\n",
        "bikeshare"
      ],
      "execution_count": 235,
      "outputs": [
        {
          "output_type": "stream",
          "text": [
            "movendo uma bike para Olin\n",
            "movendo uma bike para Olin\n"
          ],
          "name": "stdout"
        },
        {
          "output_type": "execute_result",
          "data": {
            "text/html": [
              "<div>\n",
              "<style scoped>\n",
              "    .dataframe tbody tr th:only-of-type {\n",
              "        vertical-align: middle;\n",
              "    }\n",
              "\n",
              "    .dataframe tbody tr th {\n",
              "        vertical-align: top;\n",
              "    }\n",
              "\n",
              "    .dataframe thead th {\n",
              "        text-align: right;\n",
              "    }\n",
              "</style>\n",
              "<table border=\"1\" class=\"dataframe\">\n",
              "  <thead>\n",
              "    <tr style=\"text-align: right;\">\n",
              "      <th></th>\n",
              "      <th>values</th>\n",
              "    </tr>\n",
              "  </thead>\n",
              "  <tbody>\n",
              "    <tr>\n",
              "      <th>olin</th>\n",
              "      <td>12</td>\n",
              "    </tr>\n",
              "    <tr>\n",
              "      <th>wellesley</th>\n",
              "      <td>0</td>\n",
              "    </tr>\n",
              "  </tbody>\n",
              "</table>\n",
              "</div>"
            ],
            "text/plain": [
              "olin         12\n",
              "wellesley     0\n",
              "dtype: int64"
            ]
          },
          "metadata": {
            "tags": []
          },
          "execution_count": 235
        }
      ]
    }
  ]
}